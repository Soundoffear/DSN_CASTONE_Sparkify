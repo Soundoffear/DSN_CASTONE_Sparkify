{
 "cells": [
  {
   "cell_type": "markdown",
   "metadata": {},
   "source": [
    "# Sparkify Project Workspace\n",
    "This workspace contains a tiny subset (128MB) of the full dataset available (12GB). Feel free to use this workspace to build your project, or to explore a smaller subset with Spark before deploying your cluster on the cloud. Instructions for setting up your Spark cluster is included in the last lesson of the Extracurricular Spark Course content.\n",
    "\n",
    "You can follow the steps below to guide your data analysis and model building portion of this project."
   ]
  },
  {
   "cell_type": "code",
   "execution_count": 81,
   "metadata": {
    "ExecuteTime": {
     "end_time": "2020-07-21T22:42:16.338794Z",
     "start_time": "2020-07-21T22:42:16.331606Z"
    }
   },
   "outputs": [],
   "source": [
    "# import libraries\n",
    "from pyspark.sql import SparkSession\n",
    "from pyspark.sql.functions import udf\n",
    "from pyspark.sql.types import StringType\n",
    "from pyspark.sql.types import IntegerType\n",
    "from pyspark.sql.functions import desc\n",
    "from pyspark.sql.functions import asc\n",
    "from pyspark.sql.functions import sum as Fsum\n",
    "\n",
    "import datetime\n",
    "import pandas as pd\n",
    "import numpy as np\n",
    "import matplotlib.pyplot as plt\n",
    "import seaborn as sns\n",
    "%matplotlib inline\n",
    "\n",
    "from pyspark.sql import Window"
   ]
  },
  {
   "cell_type": "code",
   "execution_count": 2,
   "metadata": {
    "ExecuteTime": {
     "end_time": "2020-07-21T22:38:13.169344Z",
     "start_time": "2020-07-21T22:38:08.574246Z"
    }
   },
   "outputs": [],
   "source": [
    "# create a Spark session\n",
    "spark = SparkSession.builder.appName(\"Sparkify_UDACITY\").getOrCreate()"
   ]
  },
  {
   "cell_type": "markdown",
   "metadata": {},
   "source": [
    "# Load and Clean Dataset\n",
    "In this workspace, the mini-dataset file is `mini_sparkify_event_data.json`. Load and clean the dataset, checking for invalid or missing data - for example, records without userids or sessionids. "
   ]
  },
  {
   "cell_type": "code",
   "execution_count": 3,
   "metadata": {
    "ExecuteTime": {
     "end_time": "2020-07-21T22:38:13.190886Z",
     "start_time": "2020-07-21T22:38:13.173952Z"
    }
   },
   "outputs": [],
   "source": [
    "data_file = 'mini_sparkify_event_data.json'"
   ]
  },
  {
   "cell_type": "code",
   "execution_count": 4,
   "metadata": {
    "ExecuteTime": {
     "end_time": "2020-07-21T22:38:34.981400Z",
     "start_time": "2020-07-21T22:38:13.204752Z"
    }
   },
   "outputs": [],
   "source": [
    "df = spark.read.json(data_file)"
   ]
  },
  {
   "cell_type": "code",
   "execution_count": 5,
   "metadata": {
    "ExecuteTime": {
     "end_time": "2020-07-21T22:38:35.017874Z",
     "start_time": "2020-07-21T22:38:34.983603Z"
    }
   },
   "outputs": [
    {
     "name": "stdout",
     "output_type": "stream",
     "text": [
      "root\n",
      " |-- artist: string (nullable = true)\n",
      " |-- auth: string (nullable = true)\n",
      " |-- firstName: string (nullable = true)\n",
      " |-- gender: string (nullable = true)\n",
      " |-- itemInSession: long (nullable = true)\n",
      " |-- lastName: string (nullable = true)\n",
      " |-- length: double (nullable = true)\n",
      " |-- level: string (nullable = true)\n",
      " |-- location: string (nullable = true)\n",
      " |-- method: string (nullable = true)\n",
      " |-- page: string (nullable = true)\n",
      " |-- registration: long (nullable = true)\n",
      " |-- sessionId: long (nullable = true)\n",
      " |-- song: string (nullable = true)\n",
      " |-- status: long (nullable = true)\n",
      " |-- ts: long (nullable = true)\n",
      " |-- userAgent: string (nullable = true)\n",
      " |-- userId: string (nullable = true)\n",
      "\n"
     ]
    }
   ],
   "source": [
    "df.printSchema()"
   ]
  },
  {
   "cell_type": "code",
   "execution_count": 6,
   "metadata": {
    "ExecuteTime": {
     "end_time": "2020-07-21T22:38:35.597394Z",
     "start_time": "2020-07-21T22:38:35.021043Z"
    }
   },
   "outputs": [
    {
     "name": "stdout",
     "output_type": "stream",
     "text": [
      "+--------------------+---------+---------+------+-------------+--------+---------+-----+--------------------+------+---------------+-------------+---------+--------------------+------+-------------+--------------------+------+\n",
      "|              artist|     auth|firstName|gender|itemInSession|lastName|   length|level|            location|method|           page| registration|sessionId|                song|status|           ts|           userAgent|userId|\n",
      "+--------------------+---------+---------+------+-------------+--------+---------+-----+--------------------+------+---------------+-------------+---------+--------------------+------+-------------+--------------------+------+\n",
      "|      Martha Tilston|Logged In|    Colin|     M|           50| Freeman|277.89016| paid|     Bakersfield, CA|   PUT|       NextSong|1538173362000|       29|           Rockpools|   200|1538352117000|Mozilla/5.0 (Wind...|    30|\n",
      "|    Five Iron Frenzy|Logged In|    Micah|     M|           79|    Long|236.09424| free|Boston-Cambridge-...|   PUT|       NextSong|1538331630000|        8|              Canada|   200|1538352180000|\"Mozilla/5.0 (Win...|     9|\n",
      "|        Adam Lambert|Logged In|    Colin|     M|           51| Freeman| 282.8273| paid|     Bakersfield, CA|   PUT|       NextSong|1538173362000|       29|   Time For Miracles|   200|1538352394000|Mozilla/5.0 (Wind...|    30|\n",
      "|              Enigma|Logged In|    Micah|     M|           80|    Long|262.71302| free|Boston-Cambridge-...|   PUT|       NextSong|1538331630000|        8|Knocking On Forbi...|   200|1538352416000|\"Mozilla/5.0 (Win...|     9|\n",
      "|           Daft Punk|Logged In|    Colin|     M|           52| Freeman|223.60771| paid|     Bakersfield, CA|   PUT|       NextSong|1538173362000|       29|Harder Better Fas...|   200|1538352676000|Mozilla/5.0 (Wind...|    30|\n",
      "|The All-American ...|Logged In|    Micah|     M|           81|    Long|208.29995| free|Boston-Cambridge-...|   PUT|       NextSong|1538331630000|        8|      Don't Leave Me|   200|1538352678000|\"Mozilla/5.0 (Win...|     9|\n",
      "|The Velvet Underg...|Logged In|    Micah|     M|           82|    Long|260.46649| free|Boston-Cambridge-...|   PUT|       NextSong|1538331630000|        8|         Run Run Run|   200|1538352886000|\"Mozilla/5.0 (Win...|     9|\n",
      "|        Starflyer 59|Logged In|    Colin|     M|           53| Freeman|185.44281| paid|     Bakersfield, CA|   PUT|       NextSong|1538173362000|       29|Passengers (Old A...|   200|1538352899000|Mozilla/5.0 (Wind...|    30|\n",
      "|                null|Logged In|    Colin|     M|           54| Freeman|     null| paid|     Bakersfield, CA|   PUT|Add to Playlist|1538173362000|       29|                null|   200|1538352905000|Mozilla/5.0 (Wind...|    30|\n",
      "|            Frumpies|Logged In|    Colin|     M|           55| Freeman|134.47791| paid|     Bakersfield, CA|   PUT|       NextSong|1538173362000|       29|          Fuck Kitty|   200|1538353084000|Mozilla/5.0 (Wind...|    30|\n",
      "|        Britt Nicole|Logged In|    Micah|     M|           83|    Long| 229.8771| free|Boston-Cambridge-...|   PUT|       NextSong|1538331630000|        8|   Walk On The Water|   200|1538353146000|\"Mozilla/5.0 (Win...|     9|\n",
      "|                null|Logged In|    Micah|     M|           84|    Long|     null| free|Boston-Cambridge-...|   GET|    Roll Advert|1538331630000|        8|                null|   200|1538353150000|\"Mozilla/5.0 (Win...|     9|\n",
      "|Edward Sharpe & T...|Logged In|    Colin|     M|           56| Freeman|223.58159| paid|     Bakersfield, CA|   PUT|       NextSong|1538173362000|       29|                Jade|   200|1538353218000|Mozilla/5.0 (Wind...|    30|\n",
      "|               Tesla|Logged In|    Micah|     M|           85|    Long|201.06404| free|Boston-Cambridge-...|   PUT|       NextSong|1538331630000|        8|      Gettin' Better|   200|1538353375000|\"Mozilla/5.0 (Win...|     9|\n",
      "|                null|Logged In|    Micah|     M|           86|    Long|     null| free|Boston-Cambridge-...|   PUT|      Thumbs Up|1538331630000|        8|                null|   307|1538353376000|\"Mozilla/5.0 (Win...|     9|\n",
      "|         Stan Mosley|Logged In|    Colin|     M|           57| Freeman|246.69995| paid|     Bakersfield, CA|   PUT|       NextSong|1538173362000|       29|   So-Called Friends|   200|1538353441000|Mozilla/5.0 (Wind...|    30|\n",
      "|Florence + The Ma...|Logged In|    Micah|     M|           87|    Long|168.64608| free|Boston-Cambridge-...|   PUT|       NextSong|1538331630000|        8| You've Got The Love|   200|1538353576000|\"Mozilla/5.0 (Win...|     9|\n",
      "|   Tokyo Police Club|Logged In|  Ashlynn|     F|            0|Williams| 166.1122| free|     Tallahassee, FL|   PUT|       NextSong|1537365219000|      217|Citizens Of Tomorrow|   200|1538353668000|\"Mozilla/5.0 (Mac...|    74|\n",
      "|             Orishas|Logged In|    Colin|     M|           58| Freeman|222.22322| paid|     Bakersfield, CA|   PUT|       NextSong|1538173362000|       29|           Represent|   200|1538353687000|Mozilla/5.0 (Wind...|    30|\n",
      "|             Ratatat|Logged In|    Micah|     M|           88|    Long|229.77261| free|Boston-Cambridge-...|   PUT|       NextSong|1538331630000|        8|              Swisha|   200|1538353744000|\"Mozilla/5.0 (Win...|     9|\n",
      "+--------------------+---------+---------+------+-------------+--------+---------+-----+--------------------+------+---------------+-------------+---------+--------------------+------+-------------+--------------------+------+\n",
      "only showing top 20 rows\n",
      "\n"
     ]
    }
   ],
   "source": [
    "df.show()"
   ]
  },
  {
   "cell_type": "code",
   "execution_count": 7,
   "metadata": {
    "ExecuteTime": {
     "end_time": "2020-07-21T22:38:41.031173Z",
     "start_time": "2020-07-21T22:38:35.601193Z"
    }
   },
   "outputs": [
    {
     "name": "stdout",
     "output_type": "stream",
     "text": [
      "<class 'pandas.core.frame.DataFrame'>\n",
      "RangeIndex: 286500 entries, 0 to 286499\n",
      "Data columns (total 18 columns):\n",
      " #   Column         Non-Null Count   Dtype  \n",
      "---  ------         --------------   -----  \n",
      " 0   artist         228108 non-null  object \n",
      " 1   auth           286500 non-null  object \n",
      " 2   firstName      278154 non-null  object \n",
      " 3   gender         278154 non-null  object \n",
      " 4   itemInSession  286500 non-null  int64  \n",
      " 5   lastName       278154 non-null  object \n",
      " 6   length         228108 non-null  float64\n",
      " 7   level          286500 non-null  object \n",
      " 8   location       278154 non-null  object \n",
      " 9   method         286500 non-null  object \n",
      " 10  page           286500 non-null  object \n",
      " 11  registration   278154 non-null  float64\n",
      " 12  sessionId      286500 non-null  int64  \n",
      " 13  song           228108 non-null  object \n",
      " 14  status         286500 non-null  int64  \n",
      " 15  ts             286500 non-null  int64  \n",
      " 16  userAgent      278154 non-null  object \n",
      " 17  userId         286500 non-null  object \n",
      "dtypes: float64(2), int64(4), object(12)\n",
      "memory usage: 39.3+ MB\n"
     ]
    }
   ],
   "source": [
    "df.toPandas().info()"
   ]
  },
  {
   "cell_type": "code",
   "execution_count": 8,
   "metadata": {
    "ExecuteTime": {
     "end_time": "2020-07-21T22:38:42.052815Z",
     "start_time": "2020-07-21T22:38:41.034533Z"
    }
   },
   "outputs": [
    {
     "data": {
      "text/plain": [
       "8346"
      ]
     },
     "execution_count": 8,
     "metadata": {},
     "output_type": "execute_result"
    }
   ],
   "source": [
    "# let us check if there are any empty userIds - we will use spark\n",
    "\n",
    "df.filter(df.userId == '').count()"
   ]
  },
  {
   "cell_type": "code",
   "execution_count": 9,
   "metadata": {
    "ExecuteTime": {
     "end_time": "2020-07-21T22:38:42.183945Z",
     "start_time": "2020-07-21T22:38:42.056355Z"
    }
   },
   "outputs": [
    {
     "data": {
      "text/plain": [
       "0"
      ]
     },
     "execution_count": 9,
     "metadata": {},
     "output_type": "execute_result"
    }
   ],
   "source": [
    "# now lets do the same for the sessionId\n",
    "\n",
    "df.filter(df.sessionId == '').count()"
   ]
  },
  {
   "cell_type": "code",
   "execution_count": 10,
   "metadata": {
    "ExecuteTime": {
     "end_time": "2020-07-21T22:38:42.204979Z",
     "start_time": "2020-07-21T22:38:42.186307Z"
    }
   },
   "outputs": [],
   "source": [
    "# okay know we know that we should drop the userId rows where userId == 0\n",
    "\n",
    "df = df.filter(df.userId != '')"
   ]
  },
  {
   "cell_type": "code",
   "execution_count": 11,
   "metadata": {
    "ExecuteTime": {
     "end_time": "2020-07-21T22:38:42.296693Z",
     "start_time": "2020-07-21T22:38:42.207434Z"
    }
   },
   "outputs": [
    {
     "name": "stdout",
     "output_type": "stream",
     "text": [
      "No empty userId!\n"
     ]
    }
   ],
   "source": [
    "assert df.filter(df.userId == '').count() == 0, 'You still have empty userId' \n",
    "print(\"No empty userId!\")"
   ]
  },
  {
   "cell_type": "code",
   "execution_count": 12,
   "metadata": {
    "ExecuteTime": {
     "end_time": "2020-07-21T22:38:46.363572Z",
     "start_time": "2020-07-21T22:38:42.299084Z"
    }
   },
   "outputs": [
    {
     "name": "stdout",
     "output_type": "stream",
     "text": [
      "<class 'pandas.core.frame.DataFrame'>\n",
      "RangeIndex: 278154 entries, 0 to 278153\n",
      "Data columns (total 18 columns):\n",
      " #   Column         Non-Null Count   Dtype  \n",
      "---  ------         --------------   -----  \n",
      " 0   artist         228108 non-null  object \n",
      " 1   auth           278154 non-null  object \n",
      " 2   firstName      278154 non-null  object \n",
      " 3   gender         278154 non-null  object \n",
      " 4   itemInSession  278154 non-null  int64  \n",
      " 5   lastName       278154 non-null  object \n",
      " 6   length         228108 non-null  float64\n",
      " 7   level          278154 non-null  object \n",
      " 8   location       278154 non-null  object \n",
      " 9   method         278154 non-null  object \n",
      " 10  page           278154 non-null  object \n",
      " 11  registration   278154 non-null  int64  \n",
      " 12  sessionId      278154 non-null  int64  \n",
      " 13  song           228108 non-null  object \n",
      " 14  status         278154 non-null  int64  \n",
      " 15  ts             278154 non-null  int64  \n",
      " 16  userAgent      278154 non-null  object \n",
      " 17  userId         278154 non-null  object \n",
      "dtypes: float64(1), int64(5), object(12)\n",
      "memory usage: 38.2+ MB\n"
     ]
    }
   ],
   "source": [
    "df.toPandas().info()"
   ]
  },
  {
   "cell_type": "markdown",
   "metadata": {},
   "source": [
    "We have removed <b>8346</b> rows from the data set in order, now we can start exploring the dataset"
   ]
  },
  {
   "cell_type": "markdown",
   "metadata": {},
   "source": [
    "Rest of the exploratory analysis will be done below"
   ]
  },
  {
   "cell_type": "markdown",
   "metadata": {},
   "source": [
    "# Exploratory Data Analysis\n",
    "When you're working with the full dataset, perform EDA by loading a small subset of the data and doing basic manipulations within Spark. In this workspace, you are already provided a small subset of data you can explore.\n",
    "\n",
    "### Define Churn\n",
    "\n",
    "Once you've done some preliminary analysis, create a column `Churn` to use as the label for your model. I suggest using the `Cancellation Confirmation` events to define your churn, which happen for both paid and free users. As a bonus task, you can also look into the `Downgrade` events.\n",
    "\n",
    "### Explore Data\n",
    "Once you've defined churn, perform some exploratory data analysis to observe the behavior for users who stayed vs users who churned. You can start by exploring aggregates on these two groups of users, observing how much of a specific action they experienced per a certain time unit or number of songs played."
   ]
  },
  {
   "cell_type": "code",
   "execution_count": 13,
   "metadata": {
    "ExecuteTime": {
     "end_time": "2020-07-21T22:39:20.275413Z",
     "start_time": "2020-07-21T22:38:46.365426Z"
    }
   },
   "outputs": [
    {
     "name": "stdout",
     "output_type": "stream",
     "text": [
      "artist 17656\n",
      "auth 2\n",
      "firstName 189\n",
      "gender 2\n",
      "itemInSession 1311\n",
      "lastName 173\n",
      "length 14866\n",
      "level 2\n",
      "location 114\n",
      "method 2\n",
      "page 19\n",
      "registration 225\n",
      "sessionId 2312\n",
      "song 58481\n",
      "status 3\n",
      "ts 269770\n",
      "userAgent 56\n",
      "userId 225\n"
     ]
    }
   ],
   "source": [
    "for col in df.schema.names:\n",
    "    print(col, df.select(col).dropDuplicates().count())"
   ]
  },
  {
   "cell_type": "markdown",
   "metadata": {},
   "source": [
    "Based on the above we know that:\n",
    "* we have <b>225 unqiue users</b>\n",
    "* we have <b>19 unique pages</b>\n",
    "* we have <b>2312 unqiue sessions</b>\n",
    "* etc."
   ]
  },
  {
   "cell_type": "code",
   "execution_count": 14,
   "metadata": {
    "ExecuteTime": {
     "end_time": "2020-07-21T22:39:21.219584Z",
     "start_time": "2020-07-21T22:39:20.278396Z"
    }
   },
   "outputs": [
    {
     "data": {
      "text/plain": [
       "[Row(page='Cancel'),\n",
       " Row(page='Submit Downgrade'),\n",
       " Row(page='Thumbs Down'),\n",
       " Row(page='Home'),\n",
       " Row(page='Downgrade'),\n",
       " Row(page='Roll Advert'),\n",
       " Row(page='Logout'),\n",
       " Row(page='Save Settings'),\n",
       " Row(page='Cancellation Confirmation'),\n",
       " Row(page='About'),\n",
       " Row(page='Settings'),\n",
       " Row(page='Add to Playlist'),\n",
       " Row(page='Add Friend'),\n",
       " Row(page='NextSong'),\n",
       " Row(page='Thumbs Up'),\n",
       " Row(page='Help'),\n",
       " Row(page='Upgrade'),\n",
       " Row(page='Error'),\n",
       " Row(page='Submit Upgrade')]"
      ]
     },
     "execution_count": 14,
     "metadata": {},
     "output_type": "execute_result"
    }
   ],
   "source": [
    "# let us get unique values for the page\n",
    "df.select('page').dropDuplicates().collect()"
   ]
  },
  {
   "cell_type": "code",
   "execution_count": 15,
   "metadata": {
    "ExecuteTime": {
     "end_time": "2020-07-21T22:39:21.226314Z",
     "start_time": "2020-07-21T22:39:21.222068Z"
    }
   },
   "outputs": [],
   "source": [
    "churn_function = udf(lambda x: 1 if x == 'Cancellation Confirmation' else 0, IntegerType())"
   ]
  },
  {
   "cell_type": "code",
   "execution_count": 16,
   "metadata": {
    "ExecuteTime": {
     "end_time": "2020-07-21T22:39:21.298495Z",
     "start_time": "2020-07-21T22:39:21.229773Z"
    }
   },
   "outputs": [],
   "source": [
    "df = df.withColumn('churn', churn_function('page')).orderBy(['userId', 'churn'], ascending=False)"
   ]
  },
  {
   "cell_type": "code",
   "execution_count": 82,
   "metadata": {
    "ExecuteTime": {
     "end_time": "2020-07-21T22:42:21.811708Z",
     "start_time": "2020-07-21T22:42:21.800224Z"
    }
   },
   "outputs": [],
   "source": [
    "win_val = Window.partitionBy('userId').rangeBetween(Window.unboundedPreceding, Window.unboundedFollowing)"
   ]
  },
  {
   "cell_type": "code",
   "execution_count": 83,
   "metadata": {
    "ExecuteTime": {
     "end_time": "2020-07-21T22:43:12.162380Z",
     "start_time": "2020-07-21T22:43:12.134969Z"
    }
   },
   "outputs": [],
   "source": [
    "df = df.withColumn('churn', Fsum('churn').over(win_val))"
   ]
  },
  {
   "cell_type": "code",
   "execution_count": null,
   "metadata": {},
   "outputs": [],
   "source": []
  },
  {
   "cell_type": "code",
   "execution_count": 84,
   "metadata": {
    "ExecuteTime": {
     "end_time": "2020-07-21T22:43:17.148971Z",
     "start_time": "2020-07-21T22:43:13.822646Z"
    }
   },
   "outputs": [
    {
     "data": {
      "text/plain": [
       "44864"
      ]
     },
     "execution_count": 84,
     "metadata": {},
     "output_type": "execute_result"
    }
   ],
   "source": [
    "df.filter(df.churn == 1).count()"
   ]
  },
  {
   "cell_type": "code",
   "execution_count": 85,
   "metadata": {
    "ExecuteTime": {
     "end_time": "2020-07-21T22:43:30.994108Z",
     "start_time": "2020-07-21T22:43:27.023873Z"
    },
    "scrolled": true
   },
   "outputs": [
    {
     "name": "stdout",
     "output_type": "stream",
     "text": [
      "+-----+-----+\n",
      "|churn|count|\n",
      "+-----+-----+\n",
      "|    0|  173|\n",
      "|    1|   52|\n",
      "+-----+-----+\n",
      "\n"
     ]
    }
   ],
   "source": [
    "df.dropDuplicates(['userId']).groupby(['churn']).count().show()"
   ]
  },
  {
   "cell_type": "code",
   "execution_count": 86,
   "metadata": {
    "ExecuteTime": {
     "end_time": "2020-07-21T22:43:35.069333Z",
     "start_time": "2020-07-21T22:43:30.996745Z"
    }
   },
   "outputs": [
    {
     "name": "stdout",
     "output_type": "stream",
     "text": [
      "+-----+------+-----+\n",
      "|churn|gender|count|\n",
      "+-----+------+-----+\n",
      "|    0|     F|   84|\n",
      "|    1|     M|   32|\n",
      "|    1|     F|   20|\n",
      "|    0|     M|   89|\n",
      "+-----+------+-----+\n",
      "\n"
     ]
    }
   ],
   "source": [
    "df.dropDuplicates(['userId', 'gender']).groupby('churn', 'gender').count().show()"
   ]
  },
  {
   "cell_type": "markdown",
   "metadata": {},
   "source": [
    "We can see that there are <b>52</b> users that churned"
   ]
  },
  {
   "cell_type": "code",
   "execution_count": 87,
   "metadata": {
    "ExecuteTime": {
     "end_time": "2020-07-21T22:43:35.910880Z",
     "start_time": "2020-07-21T22:43:35.072332Z"
    }
   },
   "outputs": [
    {
     "name": "stdout",
     "output_type": "stream",
     "text": [
      "+--------------------+------+\n",
      "|                page| count|\n",
      "+--------------------+------+\n",
      "|              Cancel|    52|\n",
      "|    Submit Downgrade|    63|\n",
      "|         Thumbs Down|  2546|\n",
      "|                Home| 10082|\n",
      "|           Downgrade|  2055|\n",
      "|         Roll Advert|  3933|\n",
      "|              Logout|  3226|\n",
      "|       Save Settings|   310|\n",
      "|Cancellation Conf...|    52|\n",
      "|               About|   495|\n",
      "|            Settings|  1514|\n",
      "|     Add to Playlist|  6526|\n",
      "|          Add Friend|  4277|\n",
      "|            NextSong|228108|\n",
      "|           Thumbs Up| 12551|\n",
      "|                Help|  1454|\n",
      "|             Upgrade|   499|\n",
      "|               Error|   252|\n",
      "|      Submit Upgrade|   159|\n",
      "+--------------------+------+\n",
      "\n"
     ]
    }
   ],
   "source": [
    "df.groupBy('page').count().show()"
   ]
  },
  {
   "cell_type": "code",
   "execution_count": 88,
   "metadata": {
    "ExecuteTime": {
     "end_time": "2020-07-21T22:43:36.601855Z",
     "start_time": "2020-07-21T22:43:35.912899Z"
    }
   },
   "outputs": [
    {
     "name": "stdout",
     "output_type": "stream",
     "text": [
      "+--------------------+------+\n",
      "|                page| count|\n",
      "+--------------------+------+\n",
      "|              Cancel|    52|\n",
      "|    Submit Downgrade|    63|\n",
      "|         Thumbs Down|  2546|\n",
      "|                Home| 10082|\n",
      "|           Downgrade|  2055|\n",
      "|         Roll Advert|  3933|\n",
      "|              Logout|  3226|\n",
      "|       Save Settings|   310|\n",
      "|Cancellation Conf...|    52|\n",
      "|               About|   495|\n",
      "|            Settings|  1514|\n",
      "|     Add to Playlist|  6526|\n",
      "|          Add Friend|  4277|\n",
      "|            NextSong|228108|\n",
      "|           Thumbs Up| 12551|\n",
      "|                Help|  1454|\n",
      "|             Upgrade|   499|\n",
      "|               Error|   252|\n",
      "|      Submit Upgrade|   159|\n",
      "+--------------------+------+\n",
      "\n"
     ]
    }
   ],
   "source": [
    "df_2 = df.groupBy('page').count()\n",
    "df_2.show()"
   ]
  },
  {
   "cell_type": "code",
   "execution_count": 89,
   "metadata": {
    "ExecuteTime": {
     "end_time": "2020-07-21T22:43:40.252338Z",
     "start_time": "2020-07-21T22:43:39.654023Z"
    }
   },
   "outputs": [],
   "source": [
    "dft = df_2.toPandas()"
   ]
  },
  {
   "cell_type": "code",
   "execution_count": 90,
   "metadata": {
    "ExecuteTime": {
     "end_time": "2020-07-21T22:43:40.260615Z",
     "start_time": "2020-07-21T22:43:40.254230Z"
    }
   },
   "outputs": [
    {
     "name": "stdout",
     "output_type": "stream",
     "text": [
      "<class 'pandas.core.frame.DataFrame'>\n",
      "RangeIndex: 19 entries, 0 to 18\n",
      "Data columns (total 2 columns):\n",
      " #   Column  Non-Null Count  Dtype \n",
      "---  ------  --------------  ----- \n",
      " 0   page    19 non-null     object\n",
      " 1   count   19 non-null     int64 \n",
      "dtypes: int64(1), object(1)\n",
      "memory usage: 432.0+ bytes\n"
     ]
    }
   ],
   "source": [
    "dft.info()"
   ]
  },
  {
   "cell_type": "code",
   "execution_count": 91,
   "metadata": {
    "ExecuteTime": {
     "end_time": "2020-07-21T22:43:40.508661Z",
     "start_time": "2020-07-21T22:43:40.505369Z"
    }
   },
   "outputs": [],
   "source": [
    "dft['count'] = dft['count'].apply(lambda x: int(x))"
   ]
  },
  {
   "cell_type": "code",
   "execution_count": 92,
   "metadata": {
    "ExecuteTime": {
     "end_time": "2020-07-21T22:43:41.170696Z",
     "start_time": "2020-07-21T22:43:40.950239Z"
    }
   },
   "outputs": [
    {
     "data": {
      "image/png": "[encoded data removed]",
      "text/plain": [
       "<Figure size 1440x864 with 1 Axes>"
      ]
     },
     "metadata": {
      "needs_background": "light"
     },
     "output_type": "display_data"
    }
   ],
   "source": [
    "fig, ax = plt.subplots(figsize=(20, 12))\n",
    "ax.bar(dft['page'], height=dft['count'])\n",
    "plt.xticks(rotation=45)\n",
    "plt.show()"
   ]
  },
  {
   "cell_type": "markdown",
   "metadata": {},
   "source": [
    "Considering that above graphs is very unreadable we will try to illustrate the same without 'NextSong' in order to be able to see better what is going on with other pages"
   ]
  },
  {
   "cell_type": "code",
   "execution_count": 93,
   "metadata": {
    "ExecuteTime": {
     "end_time": "2020-07-21T22:43:42.459212Z",
     "start_time": "2020-07-21T22:43:42.237831Z"
    }
   },
   "outputs": [
    {
     "data": {
      "image/png": "[encoded data removed]",
      "text/plain": [
       "<Figure size 1440x864 with 1 Axes>"
      ]
     },
     "metadata": {
      "needs_background": "light"
     },
     "output_type": "display_data"
    }
   ],
   "source": [
    "fig, ax = plt.subplots(figsize=[20, 12])\n",
    "ax.bar(dft[dft['page'] != 'NextSong']['page'],\n",
    "      height = dft[dft['page'] != 'NextSong']['count'])\n",
    "plt.xticks(rotation=45)\n",
    "plt.show()"
   ]
  },
  {
   "cell_type": "code",
   "execution_count": 94,
   "metadata": {
    "ExecuteTime": {
     "end_time": "2020-07-21T22:43:43.618386Z",
     "start_time": "2020-07-21T22:43:43.023259Z"
    }
   },
   "outputs": [
    {
     "name": "stdout",
     "output_type": "stream",
     "text": [
      "+------+------+\n",
      "|gender| count|\n",
      "+------+------+\n",
      "|     F|154578|\n",
      "|     M|123576|\n",
      "+------+------+\n",
      "\n"
     ]
    }
   ],
   "source": [
    "df.groupBy('gender').count().show()"
   ]
  },
  {
   "cell_type": "code",
   "execution_count": 95,
   "metadata": {
    "ExecuteTime": {
     "end_time": "2020-07-21T22:43:45.202710Z",
     "start_time": "2020-07-21T22:43:43.620950Z"
    }
   },
   "outputs": [],
   "source": [
    "df_gender = df.dropDuplicates(['userId', 'gender']).groupBy('gender').count().toPandas()"
   ]
  },
  {
   "cell_type": "code",
   "execution_count": 96,
   "metadata": {
    "ExecuteTime": {
     "end_time": "2020-07-21T22:43:45.209161Z",
     "start_time": "2020-07-21T22:43:45.204816Z"
    }
   },
   "outputs": [
    {
     "data": {
      "text/plain": [
       "104"
      ]
     },
     "execution_count": 96,
     "metadata": {},
     "output_type": "execute_result"
    }
   ],
   "source": [
    "df_gender.iloc[0, 1]"
   ]
  },
  {
   "cell_type": "code",
   "execution_count": 97,
   "metadata": {
    "ExecuteTime": {
     "end_time": "2020-07-21T22:43:45.216266Z",
     "start_time": "2020-07-21T22:43:45.212656Z"
    }
   },
   "outputs": [],
   "source": [
    "df_gender['%'] = df_gender['count'].apply(lambda x: round(x / sum(df_gender['count'])*100, 2))"
   ]
  },
  {
   "cell_type": "code",
   "execution_count": 98,
   "metadata": {
    "ExecuteTime": {
     "end_time": "2020-07-21T22:43:46.021527Z",
     "start_time": "2020-07-21T22:43:46.015492Z"
    }
   },
   "outputs": [
    {
     "data": {
      "text/html": [
       "<div>\n",
       "<style scoped>\n",
       "    .dataframe tbody tr th:only-of-type {\n",
       "        vertical-align: middle;\n",
       "    }\n",
       "\n",
       "    .dataframe tbody tr th {\n",
       "        vertical-align: top;\n",
       "    }\n",
       "\n",
       "    .dataframe thead th {\n",
       "        text-align: right;\n",
       "    }\n",
       "</style>\n",
       "<table border=\"1\" class=\"dataframe\">\n",
       "  <thead>\n",
       "    <tr style=\"text-align: right;\">\n",
       "      <th></th>\n",
       "      <th>gender</th>\n",
       "      <th>count</th>\n",
       "      <th>%</th>\n",
       "    </tr>\n",
       "  </thead>\n",
       "  <tbody>\n",
       "    <tr>\n",
       "      <th>0</th>\n",
       "      <td>F</td>\n",
       "      <td>104</td>\n",
       "      <td>46.22</td>\n",
       "    </tr>\n",
       "    <tr>\n",
       "      <th>1</th>\n",
       "      <td>M</td>\n",
       "      <td>121</td>\n",
       "      <td>53.78</td>\n",
       "    </tr>\n",
       "  </tbody>\n",
       "</table>\n",
       "</div>"
      ],
      "text/plain": [
       "  gender  count      %\n",
       "0      F    104  46.22\n",
       "1      M    121  53.78"
      ]
     },
     "execution_count": 98,
     "metadata": {},
     "output_type": "execute_result"
    }
   ],
   "source": [
    "df_gender"
   ]
  },
  {
   "cell_type": "code",
   "execution_count": 99,
   "metadata": {
    "ExecuteTime": {
     "end_time": "2020-07-21T22:43:46.633698Z",
     "start_time": "2020-07-21T22:43:46.629967Z"
    }
   },
   "outputs": [],
   "source": [
    "df_gender.iloc[0,0] = 'Female'\n",
    "df_gender.iloc[1,0] = 'Male'"
   ]
  },
  {
   "cell_type": "code",
   "execution_count": 100,
   "metadata": {
    "ExecuteTime": {
     "end_time": "2020-07-21T22:43:47.421972Z",
     "start_time": "2020-07-21T22:43:47.415109Z"
    }
   },
   "outputs": [
    {
     "data": {
      "text/html": [
       "<div>\n",
       "<style scoped>\n",
       "    .dataframe tbody tr th:only-of-type {\n",
       "        vertical-align: middle;\n",
       "    }\n",
       "\n",
       "    .dataframe tbody tr th {\n",
       "        vertical-align: top;\n",
       "    }\n",
       "\n",
       "    .dataframe thead th {\n",
       "        text-align: right;\n",
       "    }\n",
       "</style>\n",
       "<table border=\"1\" class=\"dataframe\">\n",
       "  <thead>\n",
       "    <tr style=\"text-align: right;\">\n",
       "      <th></th>\n",
       "      <th>gender</th>\n",
       "      <th>count</th>\n",
       "      <th>%</th>\n",
       "    </tr>\n",
       "  </thead>\n",
       "  <tbody>\n",
       "    <tr>\n",
       "      <th>0</th>\n",
       "      <td>Female</td>\n",
       "      <td>104</td>\n",
       "      <td>46.22</td>\n",
       "    </tr>\n",
       "    <tr>\n",
       "      <th>1</th>\n",
       "      <td>Male</td>\n",
       "      <td>121</td>\n",
       "      <td>53.78</td>\n",
       "    </tr>\n",
       "  </tbody>\n",
       "</table>\n",
       "</div>"
      ],
      "text/plain": [
       "   gender  count      %\n",
       "0  Female    104  46.22\n",
       "1    Male    121  53.78"
      ]
     },
     "execution_count": 100,
     "metadata": {},
     "output_type": "execute_result"
    }
   ],
   "source": [
    "df_gender"
   ]
  },
  {
   "cell_type": "code",
   "execution_count": 101,
   "metadata": {
    "ExecuteTime": {
     "end_time": "2020-07-21T22:43:48.826829Z",
     "start_time": "2020-07-21T22:43:48.717723Z"
    },
    "scrolled": false
   },
   "outputs": [
    {
     "data": {
      "image/png": "[encoded data removed]",
      "text/plain": [
       "<Figure size 720x576 with 1 Axes>"
      ]
     },
     "metadata": {
      "needs_background": "light"
     },
     "output_type": "display_data"
    }
   ],
   "source": [
    "fig, ax = plt.subplots(figsize=(10, 8))\n",
    "ax.bar(df_gender['gender'], height=df_gender['%'], width=0.65)\n",
    "plt.title(\"Distribution of Customers by gender\", fontsize=20)\n",
    "plt.xticks(['Female', 'Male'], fontsize=16)\n",
    "plt.yticks(np.arange(10, 70, 10), fontsize=16)\n",
    "plt.xlabel('Gender', fontsize=17)\n",
    "plt.ylabel('Percentage', fontsize=17)\n",
    "\n",
    "for x, y in zip(df_gender['gender'], df_gender['%']):\n",
    "    plt.annotate(xy=[x, y], s=str(y)+' %', fontsize=15, ha='center', va='bottom')\n",
    "\n",
    "plt.show()"
   ]
  },
  {
   "cell_type": "code",
   "execution_count": 102,
   "metadata": {
    "ExecuteTime": {
     "end_time": "2020-07-21T22:43:52.835297Z",
     "start_time": "2020-07-21T22:43:49.431246Z"
    }
   },
   "outputs": [
    {
     "data": {
      "text/plain": [
       "173"
      ]
     },
     "execution_count": 102,
     "metadata": {},
     "output_type": "execute_result"
    }
   ],
   "source": [
    "df.dropDuplicates(['userId', 'gender']).filter(df['churn'] == 0).count()"
   ]
  },
  {
   "cell_type": "code",
   "execution_count": 103,
   "metadata": {
    "ExecuteTime": {
     "end_time": "2020-07-21T22:43:56.649423Z",
     "start_time": "2020-07-21T22:43:52.837798Z"
    }
   },
   "outputs": [
    {
     "data": {
      "text/plain": [
       "52"
      ]
     },
     "execution_count": 103,
     "metadata": {},
     "output_type": "execute_result"
    }
   ],
   "source": [
    "df.dropDuplicates(['userId', 'gender']).filter(df['churn'] == 1).count()"
   ]
  },
  {
   "cell_type": "markdown",
   "metadata": {},
   "source": [
    "Now that we have that 53%+ of users are males, let us check how the churned users distrubuted between genders"
   ]
  },
  {
   "cell_type": "code",
   "execution_count": 104,
   "metadata": {
    "ExecuteTime": {
     "end_time": "2020-07-21T22:44:00.638028Z",
     "start_time": "2020-07-21T22:43:56.652087Z"
    }
   },
   "outputs": [
    {
     "name": "stdout",
     "output_type": "stream",
     "text": [
      "+-----+------+-----+\n",
      "|churn|gender|count|\n",
      "+-----+------+-----+\n",
      "|    0|     F|   84|\n",
      "|    1|     M|   32|\n",
      "|    1|     F|   20|\n",
      "|    0|     M|   89|\n",
      "+-----+------+-----+\n",
      "\n"
     ]
    }
   ],
   "source": [
    "df.dropDuplicates(['userId', 'gender']).groupBy(['churn', 'gender']).count().show()"
   ]
  },
  {
   "cell_type": "code",
   "execution_count": 105,
   "metadata": {
    "ExecuteTime": {
     "end_time": "2020-07-21T22:44:04.601547Z",
     "start_time": "2020-07-21T22:44:00.641140Z"
    }
   },
   "outputs": [],
   "source": [
    "pdf_gen_chur = df.dropDuplicates(['userId', 'gender']).groupBy(['churn', 'gender']).count().toPandas()"
   ]
  },
  {
   "cell_type": "code",
   "execution_count": 106,
   "metadata": {
    "ExecuteTime": {
     "end_time": "2020-07-21T22:44:04.607140Z",
     "start_time": "2020-07-21T22:44:04.603722Z"
    }
   },
   "outputs": [],
   "source": [
    "pdf_gen_chur['churn'] = pdf_gen_chur['churn'].apply(lambda x: int(x))"
   ]
  },
  {
   "cell_type": "code",
   "execution_count": null,
   "metadata": {},
   "outputs": [],
   "source": []
  },
  {
   "cell_type": "code",
   "execution_count": 107,
   "metadata": {
    "ExecuteTime": {
     "end_time": "2020-07-21T22:44:04.778976Z",
     "start_time": "2020-07-21T22:44:04.609509Z"
    }
   },
   "outputs": [
    {
     "data": {
      "image/png": "[encoded data removed]",
      "text/plain": [
       "<Figure size 864x576 with 1 Axes>"
      ]
     },
     "metadata": {
      "needs_background": "light"
     },
     "output_type": "display_data"
    }
   ],
   "source": [
    "fig, ax = plt.subplots(figsize=[12, 8])\n",
    "rect1 = ax.bar(pdf_gen_chur[pdf_gen_chur['gender'] == 'F']['churn'] - 0.2,\n",
    "      pdf_gen_chur[pdf_gen_chur['gender'] == 'F']['count'],\n",
    "      color='blue',\n",
    "      label='Females',\n",
    "      width=0.35)\n",
    "rect2 = ax.bar(pdf_gen_chur[pdf_gen_chur['gender'] == 'M']['churn'] + 0.2,\n",
    "      pdf_gen_chur[pdf_gen_chur['gender'] == 'M']['count'],\n",
    "      color='red',\n",
    "      label='Males',\n",
    "      width=0.35)\n",
    "for rect in rect2:\n",
    "    b_height = rect.get_height()\n",
    "    b_width = rect.get_width()\n",
    "    b_x = rect.get_x()\n",
    "    ax.text(b_x + b_width/2, \n",
    "            b_height, \n",
    "            s=b_height, \n",
    "            ha='center', \n",
    "            va='bottom',\n",
    "            fontsize=16)\n",
    "for rect in rect1:\n",
    "    b_height = rect.get_height()\n",
    "    b_width = rect.get_width()\n",
    "    b_x = rect.get_x()\n",
    "    ax.text(b_x + b_width/2, \n",
    "            b_height, \n",
    "            s=b_height, \n",
    "            ha='center', \n",
    "            va='bottom',\n",
    "            fontsize=16)\n",
    "\n",
    "ax.set_xticks([x for x in pdf_gen_chur[pdf_gen_chur['gender'] == 'F']['churn']])\n",
    "ax.set_xticklabels([\"Not Churned\", \"Churned\"])\n",
    "plt.legend(fontsize=16, ncol=2)\n",
    "plt.show()"
   ]
  },
  {
   "cell_type": "markdown",
   "metadata": {},
   "source": [
    "Now lets see how many paid/free users has churned"
   ]
  },
  {
   "cell_type": "code",
   "execution_count": 108,
   "metadata": {
    "ExecuteTime": {
     "end_time": "2020-07-21T22:44:09.000634Z",
     "start_time": "2020-07-21T22:44:04.780657Z"
    }
   },
   "outputs": [
    {
     "name": "stdout",
     "output_type": "stream",
     "text": [
      "+-----+-----+-----+\n",
      "|churn|level|count|\n",
      "+-----+-----+-----+\n",
      "|    1| paid|   36|\n",
      "|    1| free|   46|\n",
      "|    0| free|  149|\n",
      "|    0| paid|  129|\n",
      "+-----+-----+-----+\n",
      "\n"
     ]
    }
   ],
   "source": [
    "df.dropDuplicates(['userId', 'level']).orderBy(['level', 'churn'], ascending=False).groupby(['churn', 'level']).count().show()"
   ]
  },
  {
   "cell_type": "code",
   "execution_count": 109,
   "metadata": {
    "ExecuteTime": {
     "end_time": "2020-07-21T22:44:13.350842Z",
     "start_time": "2020-07-21T22:44:09.004472Z"
    }
   },
   "outputs": [],
   "source": [
    "pdf_lvl_churn = df.dropDuplicates(['userId', 'level']).groupBy(['churn', 'level']).count().toPandas()"
   ]
  },
  {
   "cell_type": "code",
   "execution_count": 110,
   "metadata": {
    "ExecuteTime": {
     "end_time": "2020-07-21T22:44:13.357795Z",
     "start_time": "2020-07-21T22:44:13.353201Z"
    }
   },
   "outputs": [],
   "source": [
    "pdf_lvl_churn['churn'] = pdf_lvl_churn['churn'].astype(int)"
   ]
  },
  {
   "cell_type": "code",
   "execution_count": 111,
   "metadata": {
    "ExecuteTime": {
     "end_time": "2020-07-21T22:44:13.530858Z",
     "start_time": "2020-07-21T22:44:13.364842Z"
    }
   },
   "outputs": [
    {
     "data": {
      "text/plain": [
       "<BarContainer object of 2 artists>"
      ]
     },
     "execution_count": 111,
     "metadata": {},
     "output_type": "execute_result"
    },
    {
     "data": {
      "image/png": "[encoded data removed]",
      "text/plain": [
       "<Figure size 432x288 with 1 Axes>"
      ]
     },
     "metadata": {
      "needs_background": "light"
     },
     "output_type": "display_data"
    }
   ],
   "source": [
    "plt.bar(pdf_lvl_churn[pdf_lvl_churn['level'] == 'free']['churn']-0.5,\n",
    "       pdf_lvl_churn[pdf_lvl_churn['level'] == 'free']['count'])"
   ]
  },
  {
   "cell_type": "code",
   "execution_count": 112,
   "metadata": {
    "ExecuteTime": {
     "end_time": "2020-07-21T22:44:13.705220Z",
     "start_time": "2020-07-21T22:44:13.533093Z"
    }
   },
   "outputs": [
    {
     "data": {
      "image/png": "[encoded data removed]",
      "text/plain": [
       "<Figure size 864x576 with 1 Axes>"
      ]
     },
     "metadata": {
      "needs_background": "light"
     },
     "output_type": "display_data"
    }
   ],
   "source": [
    "fig, ax = plt.subplots(figsize=(12, 8))\n",
    "rect1 = ax.bar(pdf_lvl_churn[pdf_lvl_churn['level'] == 'free']['churn'] - 0.2,\n",
    "      pdf_lvl_churn[pdf_lvl_churn['level'] == 'free']['count'],\n",
    "      color='blue',\n",
    "      label='Free',\n",
    "      width=0.35)\n",
    "rect2 = ax.bar(pdf_lvl_churn[pdf_lvl_churn['level'] == 'paid']['churn'] + 0.2,\n",
    "      pdf_lvl_churn[pdf_lvl_churn['level'] == 'paid']['count'],\n",
    "      color='red',\n",
    "      label='Paid',\n",
    "      width=0.35)\n",
    "for rect in rect2:\n",
    "    b_height = rect.get_height()\n",
    "    b_width = rect.get_width()\n",
    "    b_x = rect.get_x()\n",
    "    ax.text(b_x + b_width/2, \n",
    "            b_height, \n",
    "            s=b_height, \n",
    "            ha='center', \n",
    "            va='bottom',\n",
    "            fontsize=16)\n",
    "for rect in rect1:\n",
    "    b_height = rect.get_height()\n",
    "    b_width = rect.get_width()\n",
    "    b_x = rect.get_x()\n",
    "    ax.text(b_x + b_width/2, \n",
    "            b_height, \n",
    "            s=b_height, \n",
    "            ha='center', \n",
    "            va='bottom',\n",
    "            fontsize=16)\n",
    "ax.set_xticks([x for x in pdf_lvl_churn[pdf_lvl_churn['level'] == 'free']['churn']])\n",
    "ax.set_xticklabels([\"Churned\", \"Not Churned\"])\n",
    "plt.legend(fontsize=16, ncol=2)\n",
    "plt.show()"
   ]
  },
  {
   "cell_type": "code",
   "execution_count": 113,
   "metadata": {
    "ExecuteTime": {
     "end_time": "2020-07-21T22:44:17.880053Z",
     "start_time": "2020-07-21T22:44:13.707098Z"
    }
   },
   "outputs": [
    {
     "name": "stdout",
     "output_type": "stream",
     "text": [
      "+-----+-----+\n",
      "|churn|count|\n",
      "+-----+-----+\n",
      "|    0|  173|\n",
      "|    1|   52|\n",
      "+-----+-----+\n",
      "\n"
     ]
    }
   ],
   "source": [
    "df.dropDuplicates(['userId', 'churn']).groupBy(['churn']).count().show()"
   ]
  },
  {
   "cell_type": "code",
   "execution_count": 114,
   "metadata": {
    "ExecuteTime": {
     "end_time": "2020-07-21T22:44:21.876915Z",
     "start_time": "2020-07-21T22:44:17.882743Z"
    }
   },
   "outputs": [],
   "source": [
    "pdf_chrun = df.dropDuplicates(['userId', 'churn']).groupBy(['churn']).count().toPandas()"
   ]
  },
  {
   "cell_type": "code",
   "execution_count": 115,
   "metadata": {
    "ExecuteTime": {
     "end_time": "2020-07-21T22:44:21.884939Z",
     "start_time": "2020-07-21T22:44:21.879016Z"
    }
   },
   "outputs": [],
   "source": [
    "pdf_chrun[\"%\"] = pdf_chrun['count'].apply(lambda x: round(x/sum(pdf_chrun['count'])*100,2))"
   ]
  },
  {
   "cell_type": "code",
   "execution_count": 116,
   "metadata": {
    "ExecuteTime": {
     "end_time": "2020-07-21T22:44:22.018623Z",
     "start_time": "2020-07-21T22:44:21.889859Z"
    }
   },
   "outputs": [
    {
     "data": {
      "image/png": "[encoded data removed]",
      "text/plain": [
       "<Figure size 432x576 with 1 Axes>"
      ]
     },
     "metadata": {
      "needs_background": "light"
     },
     "output_type": "display_data"
    }
   ],
   "source": [
    "fig, ax = plt.subplots(figsize=(6, 8))\n",
    "rects = ax.bar(pdf_chrun['churn'], height=pdf_chrun['%'], width=0.45)\n",
    "\n",
    "ax.set_xticks([x for x in pdf_chrun['churn']])\n",
    "ax.set_xticklabels(['Not Churned', 'Churned'], fontsize=16)\n",
    "ax.set_title(\"Percentage distributon of Churned/Not Churned users\", fontsize=20, fontweight='bold', pad=15)\n",
    "ax.set_yticks(np.arange(0, 110, 10))\n",
    "ax.set_yticklabels(np.arange(0, 110, 10), fontsize=16)\n",
    "for rect in rects:\n",
    "    height = rect.get_height()\n",
    "    width = rect.get_width()\n",
    "    b_x = rect.get_x()\n",
    "    ax.text(b_x + width/2, height, s=str(height)+' %',\n",
    "           ha='center', va='bottom', fontsize=16,\n",
    "           fontweight='bold')\n",
    "\n",
    "plt.show()"
   ]
  },
  {
   "cell_type": "code",
   "execution_count": 117,
   "metadata": {
    "ExecuteTime": {
     "end_time": "2020-07-21T22:44:22.029194Z",
     "start_time": "2020-07-21T22:44:22.020526Z"
    }
   },
   "outputs": [
    {
     "data": {
      "text/html": [
       "<div>\n",
       "<style scoped>\n",
       "    .dataframe tbody tr th:only-of-type {\n",
       "        vertical-align: middle;\n",
       "    }\n",
       "\n",
       "    .dataframe tbody tr th {\n",
       "        vertical-align: top;\n",
       "    }\n",
       "\n",
       "    .dataframe thead th {\n",
       "        text-align: right;\n",
       "    }\n",
       "</style>\n",
       "<table border=\"1\" class=\"dataframe\">\n",
       "  <thead>\n",
       "    <tr style=\"text-align: right;\">\n",
       "      <th></th>\n",
       "      <th>churn</th>\n",
       "      <th>count</th>\n",
       "      <th>%</th>\n",
       "    </tr>\n",
       "  </thead>\n",
       "  <tbody>\n",
       "    <tr>\n",
       "      <th>0</th>\n",
       "      <td>0</td>\n",
       "      <td>173</td>\n",
       "      <td>76.89</td>\n",
       "    </tr>\n",
       "    <tr>\n",
       "      <th>1</th>\n",
       "      <td>1</td>\n",
       "      <td>52</td>\n",
       "      <td>23.11</td>\n",
       "    </tr>\n",
       "  </tbody>\n",
       "</table>\n",
       "</div>"
      ],
      "text/plain": [
       "   churn  count      %\n",
       "0      0    173  76.89\n",
       "1      1     52  23.11"
      ]
     },
     "execution_count": 117,
     "metadata": {},
     "output_type": "execute_result"
    }
   ],
   "source": [
    "pdf_chrun"
   ]
  },
  {
   "cell_type": "code",
   "execution_count": 118,
   "metadata": {
    "ExecuteTime": {
     "end_time": "2020-07-21T22:44:33.506363Z",
     "start_time": "2020-07-21T22:44:33.481382Z"
    }
   },
   "outputs": [],
   "source": [
    "df_test = df.orderBy(['page', 'churn']).filter(df['page'] != 'NextSong').groupby(['churn', 'page']).count()"
   ]
  },
  {
   "cell_type": "code",
   "execution_count": 119,
   "metadata": {
    "ExecuteTime": {
     "end_time": "2020-07-21T22:44:38.212647Z",
     "start_time": "2020-07-21T22:44:33.861036Z"
    }
   },
   "outputs": [
    {
     "name": "stdout",
     "output_type": "stream",
     "text": [
      "+-----+----------------+-----+\n",
      "|churn|            page|count|\n",
      "+-----+----------------+-----+\n",
      "|    0|   Save Settings|  252|\n",
      "|    1|       Thumbs Up| 1859|\n",
      "|    1|      Add Friend|  636|\n",
      "|    1| Add to Playlist| 1038|\n",
      "|    0|        Settings| 1244|\n",
      "|    0|      Add Friend| 3641|\n",
      "|    1|         Upgrade|  112|\n",
      "|    1|          Logout|  553|\n",
      "|    1|Submit Downgrade|    9|\n",
      "|    1|     Thumbs Down|  496|\n",
      "|    1|            Help|  239|\n",
      "|    1|       Downgrade|  337|\n",
      "|    1|           Error|   32|\n",
      "|    0|           Error|  220|\n",
      "|    0|            Help| 1215|\n",
      "|    0|     Thumbs Down| 2050|\n",
      "|    0|Submit Downgrade|   54|\n",
      "|    1|        Settings|  270|\n",
      "|    0|       Downgrade| 1718|\n",
      "|    0|     Roll Advert| 2966|\n",
      "+-----+----------------+-----+\n",
      "only showing top 20 rows\n",
      "\n"
     ]
    }
   ],
   "source": [
    "df_test.show()"
   ]
  },
  {
   "cell_type": "code",
   "execution_count": null,
   "metadata": {},
   "outputs": [],
   "source": []
  },
  {
   "cell_type": "code",
   "execution_count": null,
   "metadata": {},
   "outputs": [],
   "source": []
  },
  {
   "cell_type": "code",
   "execution_count": null,
   "metadata": {},
   "outputs": [],
   "source": []
  },
  {
   "cell_type": "code",
   "execution_count": 120,
   "metadata": {
    "ExecuteTime": {
     "end_time": "2020-07-21T22:44:43.577540Z",
     "start_time": "2020-07-21T22:44:38.214869Z"
    }
   },
   "outputs": [],
   "source": [
    "pdf_page = df.filter(df['page'] != 'NextSong').groupBy(['page', 'churn']).count().orderBy(['page', 'churn']).toPandas()"
   ]
  },
  {
   "cell_type": "markdown",
   "metadata": {},
   "source": [
    "For the below graph we have filtered out the 'NextSong' in order to see better the distributtion of the activity between different pages"
   ]
  },
  {
   "cell_type": "code",
   "execution_count": 121,
   "metadata": {
    "ExecuteTime": {
     "end_time": "2020-07-21T22:44:43.598877Z",
     "start_time": "2020-07-21T22:44:43.581315Z"
    },
    "scrolled": true
   },
   "outputs": [
    {
     "data": {
      "text/html": [
       "<div>\n",
       "<style scoped>\n",
       "    .dataframe tbody tr th:only-of-type {\n",
       "        vertical-align: middle;\n",
       "    }\n",
       "\n",
       "    .dataframe tbody tr th {\n",
       "        vertical-align: top;\n",
       "    }\n",
       "\n",
       "    .dataframe thead th {\n",
       "        text-align: right;\n",
       "    }\n",
       "</style>\n",
       "<table border=\"1\" class=\"dataframe\">\n",
       "  <thead>\n",
       "    <tr style=\"text-align: right;\">\n",
       "      <th></th>\n",
       "      <th>page</th>\n",
       "      <th>churn</th>\n",
       "      <th>count</th>\n",
       "    </tr>\n",
       "  </thead>\n",
       "  <tbody>\n",
       "    <tr>\n",
       "      <th>0</th>\n",
       "      <td>About</td>\n",
       "      <td>0</td>\n",
       "      <td>439</td>\n",
       "    </tr>\n",
       "    <tr>\n",
       "      <th>1</th>\n",
       "      <td>About</td>\n",
       "      <td>1</td>\n",
       "      <td>56</td>\n",
       "    </tr>\n",
       "    <tr>\n",
       "      <th>2</th>\n",
       "      <td>Add Friend</td>\n",
       "      <td>0</td>\n",
       "      <td>3641</td>\n",
       "    </tr>\n",
       "    <tr>\n",
       "      <th>3</th>\n",
       "      <td>Add Friend</td>\n",
       "      <td>1</td>\n",
       "      <td>636</td>\n",
       "    </tr>\n",
       "    <tr>\n",
       "      <th>4</th>\n",
       "      <td>Add to Playlist</td>\n",
       "      <td>0</td>\n",
       "      <td>5488</td>\n",
       "    </tr>\n",
       "    <tr>\n",
       "      <th>5</th>\n",
       "      <td>Add to Playlist</td>\n",
       "      <td>1</td>\n",
       "      <td>1038</td>\n",
       "    </tr>\n",
       "    <tr>\n",
       "      <th>6</th>\n",
       "      <td>Cancel</td>\n",
       "      <td>1</td>\n",
       "      <td>52</td>\n",
       "    </tr>\n",
       "    <tr>\n",
       "      <th>7</th>\n",
       "      <td>Cancellation Confirmation</td>\n",
       "      <td>1</td>\n",
       "      <td>52</td>\n",
       "    </tr>\n",
       "    <tr>\n",
       "      <th>8</th>\n",
       "      <td>Downgrade</td>\n",
       "      <td>0</td>\n",
       "      <td>1718</td>\n",
       "    </tr>\n",
       "    <tr>\n",
       "      <th>9</th>\n",
       "      <td>Downgrade</td>\n",
       "      <td>1</td>\n",
       "      <td>337</td>\n",
       "    </tr>\n",
       "    <tr>\n",
       "      <th>10</th>\n",
       "      <td>Error</td>\n",
       "      <td>0</td>\n",
       "      <td>220</td>\n",
       "    </tr>\n",
       "    <tr>\n",
       "      <th>11</th>\n",
       "      <td>Error</td>\n",
       "      <td>1</td>\n",
       "      <td>32</td>\n",
       "    </tr>\n",
       "    <tr>\n",
       "      <th>12</th>\n",
       "      <td>Help</td>\n",
       "      <td>0</td>\n",
       "      <td>1215</td>\n",
       "    </tr>\n",
       "    <tr>\n",
       "      <th>13</th>\n",
       "      <td>Help</td>\n",
       "      <td>1</td>\n",
       "      <td>239</td>\n",
       "    </tr>\n",
       "    <tr>\n",
       "      <th>14</th>\n",
       "      <td>Home</td>\n",
       "      <td>0</td>\n",
       "      <td>8410</td>\n",
       "    </tr>\n",
       "    <tr>\n",
       "      <th>15</th>\n",
       "      <td>Home</td>\n",
       "      <td>1</td>\n",
       "      <td>1672</td>\n",
       "    </tr>\n",
       "    <tr>\n",
       "      <th>16</th>\n",
       "      <td>Logout</td>\n",
       "      <td>0</td>\n",
       "      <td>2673</td>\n",
       "    </tr>\n",
       "    <tr>\n",
       "      <th>17</th>\n",
       "      <td>Logout</td>\n",
       "      <td>1</td>\n",
       "      <td>553</td>\n",
       "    </tr>\n",
       "    <tr>\n",
       "      <th>18</th>\n",
       "      <td>Roll Advert</td>\n",
       "      <td>0</td>\n",
       "      <td>2966</td>\n",
       "    </tr>\n",
       "    <tr>\n",
       "      <th>19</th>\n",
       "      <td>Roll Advert</td>\n",
       "      <td>1</td>\n",
       "      <td>967</td>\n",
       "    </tr>\n",
       "    <tr>\n",
       "      <th>20</th>\n",
       "      <td>Save Settings</td>\n",
       "      <td>0</td>\n",
       "      <td>252</td>\n",
       "    </tr>\n",
       "    <tr>\n",
       "      <th>21</th>\n",
       "      <td>Save Settings</td>\n",
       "      <td>1</td>\n",
       "      <td>58</td>\n",
       "    </tr>\n",
       "    <tr>\n",
       "      <th>22</th>\n",
       "      <td>Settings</td>\n",
       "      <td>0</td>\n",
       "      <td>1244</td>\n",
       "    </tr>\n",
       "    <tr>\n",
       "      <th>23</th>\n",
       "      <td>Settings</td>\n",
       "      <td>1</td>\n",
       "      <td>270</td>\n",
       "    </tr>\n",
       "    <tr>\n",
       "      <th>24</th>\n",
       "      <td>Submit Downgrade</td>\n",
       "      <td>0</td>\n",
       "      <td>54</td>\n",
       "    </tr>\n",
       "    <tr>\n",
       "      <th>25</th>\n",
       "      <td>Submit Downgrade</td>\n",
       "      <td>1</td>\n",
       "      <td>9</td>\n",
       "    </tr>\n",
       "    <tr>\n",
       "      <th>26</th>\n",
       "      <td>Submit Upgrade</td>\n",
       "      <td>0</td>\n",
       "      <td>127</td>\n",
       "    </tr>\n",
       "    <tr>\n",
       "      <th>27</th>\n",
       "      <td>Submit Upgrade</td>\n",
       "      <td>1</td>\n",
       "      <td>32</td>\n",
       "    </tr>\n",
       "    <tr>\n",
       "      <th>28</th>\n",
       "      <td>Thumbs Down</td>\n",
       "      <td>0</td>\n",
       "      <td>2050</td>\n",
       "    </tr>\n",
       "    <tr>\n",
       "      <th>29</th>\n",
       "      <td>Thumbs Down</td>\n",
       "      <td>1</td>\n",
       "      <td>496</td>\n",
       "    </tr>\n",
       "    <tr>\n",
       "      <th>30</th>\n",
       "      <td>Thumbs Up</td>\n",
       "      <td>0</td>\n",
       "      <td>10692</td>\n",
       "    </tr>\n",
       "    <tr>\n",
       "      <th>31</th>\n",
       "      <td>Thumbs Up</td>\n",
       "      <td>1</td>\n",
       "      <td>1859</td>\n",
       "    </tr>\n",
       "    <tr>\n",
       "      <th>32</th>\n",
       "      <td>Upgrade</td>\n",
       "      <td>0</td>\n",
       "      <td>387</td>\n",
       "    </tr>\n",
       "    <tr>\n",
       "      <th>33</th>\n",
       "      <td>Upgrade</td>\n",
       "      <td>1</td>\n",
       "      <td>112</td>\n",
       "    </tr>\n",
       "  </tbody>\n",
       "</table>\n",
       "</div>"
      ],
      "text/plain": [
       "                         page  churn  count\n",
       "0                       About      0    439\n",
       "1                       About      1     56\n",
       "2                  Add Friend      0   3641\n",
       "3                  Add Friend      1    636\n",
       "4             Add to Playlist      0   5488\n",
       "5             Add to Playlist      1   1038\n",
       "6                      Cancel      1     52\n",
       "7   Cancellation Confirmation      1     52\n",
       "8                   Downgrade      0   1718\n",
       "9                   Downgrade      1    337\n",
       "10                      Error      0    220\n",
       "11                      Error      1     32\n",
       "12                       Help      0   1215\n",
       "13                       Help      1    239\n",
       "14                       Home      0   8410\n",
       "15                       Home      1   1672\n",
       "16                     Logout      0   2673\n",
       "17                     Logout      1    553\n",
       "18                Roll Advert      0   2966\n",
       "19                Roll Advert      1    967\n",
       "20              Save Settings      0    252\n",
       "21              Save Settings      1     58\n",
       "22                   Settings      0   1244\n",
       "23                   Settings      1    270\n",
       "24           Submit Downgrade      0     54\n",
       "25           Submit Downgrade      1      9\n",
       "26             Submit Upgrade      0    127\n",
       "27             Submit Upgrade      1     32\n",
       "28                Thumbs Down      0   2050\n",
       "29                Thumbs Down      1    496\n",
       "30                  Thumbs Up      0  10692\n",
       "31                  Thumbs Up      1   1859\n",
       "32                    Upgrade      0    387\n",
       "33                    Upgrade      1    112"
      ]
     },
     "execution_count": 121,
     "metadata": {},
     "output_type": "execute_result"
    }
   ],
   "source": [
    "pdf_page"
   ]
  },
  {
   "cell_type": "code",
   "execution_count": 122,
   "metadata": {
    "ExecuteTime": {
     "end_time": "2020-07-21T22:44:43.607002Z",
     "start_time": "2020-07-21T22:44:43.601537Z"
    }
   },
   "outputs": [],
   "source": [
    "df_add = pd.DataFrame({\"page\":['Cancel', 'Cancellation Confirmation'],\n",
    "                      \"churn\":[0, 0],\n",
    "                      \"count\":[0, 0]})\n",
    "pdf_page = pdf_page.append(df_add)"
   ]
  },
  {
   "cell_type": "code",
   "execution_count": 123,
   "metadata": {
    "ExecuteTime": {
     "end_time": "2020-07-21T22:44:43.614772Z",
     "start_time": "2020-07-21T22:44:43.609190Z"
    }
   },
   "outputs": [],
   "source": [
    "pdf_page.sort_values(['page', 'churn'], inplace=True)"
   ]
  },
  {
   "cell_type": "code",
   "execution_count": 124,
   "metadata": {
    "ExecuteTime": {
     "end_time": "2020-07-21T22:44:43.622316Z",
     "start_time": "2020-07-21T22:44:43.616673Z"
    }
   },
   "outputs": [
    {
     "data": {
      "text/plain": [
       "(36, 3)"
      ]
     },
     "execution_count": 124,
     "metadata": {},
     "output_type": "execute_result"
    }
   ],
   "source": [
    "pdf_page.shape"
   ]
  },
  {
   "cell_type": "code",
   "execution_count": 125,
   "metadata": {
    "ExecuteTime": {
     "end_time": "2020-07-21T22:44:43.634527Z",
     "start_time": "2020-07-21T22:44:43.625786Z"
    }
   },
   "outputs": [
    {
     "data": {
      "text/plain": [
       "array([ 0,  1,  2,  3,  4,  5,  6,  7,  8,  9, 10, 11, 12, 13, 14, 15, 16,\n",
       "       17])"
      ]
     },
     "execution_count": 125,
     "metadata": {},
     "output_type": "execute_result"
    }
   ],
   "source": [
    "np.arange(0, pdf_page[pdf_page['churn'] == 0].shape[0], 1)"
   ]
  },
  {
   "cell_type": "code",
   "execution_count": 126,
   "metadata": {
    "ExecuteTime": {
     "end_time": "2020-07-21T22:44:44.110276Z",
     "start_time": "2020-07-21T22:44:43.638450Z"
    }
   },
   "outputs": [
    {
     "data": {
      "image/png": "[encoded data removed]",
      "text/plain": [
       "<Figure size 1440x864 with 1 Axes>"
      ]
     },
     "metadata": {
      "needs_background": "light"
     },
     "output_type": "display_data"
    }
   ],
   "source": [
    "fig, ax = plt.subplots(figsize=(20, 12))\n",
    "x_val1 = np.arange(0, pdf_page[pdf_page['churn']==0].shape[0], 1)\n",
    "width = 0.4\n",
    "rects1 = ax.bar(x=x_val1-width/2, \n",
    "                height=pdf_page[pdf_page['churn']==0]['count'], \n",
    "                color='red', \n",
    "                label='Not Churned', \n",
    "                width=width)\n",
    "rects2 = ax.bar(x=x_val1+width/2,\n",
    "                height=pdf_page[pdf_page['churn']==1]['count'], \n",
    "                color='blue', \n",
    "                label='Churned', \n",
    "                width=width)\n",
    "\n",
    "ax.set_xticks(x_val1)\n",
    "\n",
    "def set_datalabels(rects):\n",
    "    for rect in rects:\n",
    "        height = rect.get_height()\n",
    "        width = rect.get_width()\n",
    "        xb = rect.get_x()\n",
    "        ax.text(xb + width/2, \n",
    "                height+100, \n",
    "                s=height, \n",
    "                rotation=90, \n",
    "                va='bottom', \n",
    "                ha='center', \n",
    "                fontsize=14)\n",
    "        \n",
    "ax.set_xticks(x_val1)\n",
    "ax.set_xticklabels([x for x in set(pdf_page['page'].unique())], rotation=90)\n",
    "\n",
    "set_datalabels(rects1)\n",
    "set_datalabels(rects2)\n",
    "plt.legend(fontsize=16)\n",
    "plt.show()"
   ]
  },
  {
   "cell_type": "markdown",
   "metadata": {},
   "source": [
    "Let us see how it looks like based on percentage."
   ]
  },
  {
   "cell_type": "code",
   "execution_count": 127,
   "metadata": {
    "ExecuteTime": {
     "end_time": "2020-07-21T22:44:44.117443Z",
     "start_time": "2020-07-21T22:44:44.113291Z"
    }
   },
   "outputs": [],
   "source": [
    "df_not_c = pdf_page[pdf_page['churn'] == 0].copy()"
   ]
  },
  {
   "cell_type": "code",
   "execution_count": 128,
   "metadata": {
    "ExecuteTime": {
     "end_time": "2020-07-21T22:44:44.125635Z",
     "start_time": "2020-07-21T22:44:44.119658Z"
    }
   },
   "outputs": [],
   "source": [
    "df_not_c[\"%\"] = df_not_c['count'].apply(lambda x: round(x/sum(df_not_c['count'])*100, 2))"
   ]
  },
  {
   "cell_type": "code",
   "execution_count": 129,
   "metadata": {
    "ExecuteTime": {
     "end_time": "2020-07-21T22:44:44.138712Z",
     "start_time": "2020-07-21T22:44:44.127970Z"
    }
   },
   "outputs": [
    {
     "data": {
      "text/html": [
       "<div>\n",
       "<style scoped>\n",
       "    .dataframe tbody tr th:only-of-type {\n",
       "        vertical-align: middle;\n",
       "    }\n",
       "\n",
       "    .dataframe tbody tr th {\n",
       "        vertical-align: top;\n",
       "    }\n",
       "\n",
       "    .dataframe thead th {\n",
       "        text-align: right;\n",
       "    }\n",
       "</style>\n",
       "<table border=\"1\" class=\"dataframe\">\n",
       "  <thead>\n",
       "    <tr style=\"text-align: right;\">\n",
       "      <th></th>\n",
       "      <th>page</th>\n",
       "      <th>churn</th>\n",
       "      <th>count</th>\n",
       "      <th>%</th>\n",
       "    </tr>\n",
       "  </thead>\n",
       "  <tbody>\n",
       "    <tr>\n",
       "      <th>0</th>\n",
       "      <td>About</td>\n",
       "      <td>0</td>\n",
       "      <td>439</td>\n",
       "      <td>1.06</td>\n",
       "    </tr>\n",
       "    <tr>\n",
       "      <th>2</th>\n",
       "      <td>Add Friend</td>\n",
       "      <td>0</td>\n",
       "      <td>3641</td>\n",
       "      <td>8.76</td>\n",
       "    </tr>\n",
       "    <tr>\n",
       "      <th>4</th>\n",
       "      <td>Add to Playlist</td>\n",
       "      <td>0</td>\n",
       "      <td>5488</td>\n",
       "      <td>13.20</td>\n",
       "    </tr>\n",
       "    <tr>\n",
       "      <th>0</th>\n",
       "      <td>Cancel</td>\n",
       "      <td>0</td>\n",
       "      <td>0</td>\n",
       "      <td>0.00</td>\n",
       "    </tr>\n",
       "    <tr>\n",
       "      <th>1</th>\n",
       "      <td>Cancellation Confirmation</td>\n",
       "      <td>0</td>\n",
       "      <td>0</td>\n",
       "      <td>0.00</td>\n",
       "    </tr>\n",
       "    <tr>\n",
       "      <th>8</th>\n",
       "      <td>Downgrade</td>\n",
       "      <td>0</td>\n",
       "      <td>1718</td>\n",
       "      <td>4.13</td>\n",
       "    </tr>\n",
       "    <tr>\n",
       "      <th>10</th>\n",
       "      <td>Error</td>\n",
       "      <td>0</td>\n",
       "      <td>220</td>\n",
       "      <td>0.53</td>\n",
       "    </tr>\n",
       "    <tr>\n",
       "      <th>12</th>\n",
       "      <td>Help</td>\n",
       "      <td>0</td>\n",
       "      <td>1215</td>\n",
       "      <td>2.92</td>\n",
       "    </tr>\n",
       "    <tr>\n",
       "      <th>14</th>\n",
       "      <td>Home</td>\n",
       "      <td>0</td>\n",
       "      <td>8410</td>\n",
       "      <td>20.23</td>\n",
       "    </tr>\n",
       "    <tr>\n",
       "      <th>16</th>\n",
       "      <td>Logout</td>\n",
       "      <td>0</td>\n",
       "      <td>2673</td>\n",
       "      <td>6.43</td>\n",
       "    </tr>\n",
       "    <tr>\n",
       "      <th>18</th>\n",
       "      <td>Roll Advert</td>\n",
       "      <td>0</td>\n",
       "      <td>2966</td>\n",
       "      <td>7.13</td>\n",
       "    </tr>\n",
       "    <tr>\n",
       "      <th>20</th>\n",
       "      <td>Save Settings</td>\n",
       "      <td>0</td>\n",
       "      <td>252</td>\n",
       "      <td>0.61</td>\n",
       "    </tr>\n",
       "    <tr>\n",
       "      <th>22</th>\n",
       "      <td>Settings</td>\n",
       "      <td>0</td>\n",
       "      <td>1244</td>\n",
       "      <td>2.99</td>\n",
       "    </tr>\n",
       "    <tr>\n",
       "      <th>24</th>\n",
       "      <td>Submit Downgrade</td>\n",
       "      <td>0</td>\n",
       "      <td>54</td>\n",
       "      <td>0.13</td>\n",
       "    </tr>\n",
       "    <tr>\n",
       "      <th>26</th>\n",
       "      <td>Submit Upgrade</td>\n",
       "      <td>0</td>\n",
       "      <td>127</td>\n",
       "      <td>0.31</td>\n",
       "    </tr>\n",
       "    <tr>\n",
       "      <th>28</th>\n",
       "      <td>Thumbs Down</td>\n",
       "      <td>0</td>\n",
       "      <td>2050</td>\n",
       "      <td>4.93</td>\n",
       "    </tr>\n",
       "    <tr>\n",
       "      <th>30</th>\n",
       "      <td>Thumbs Up</td>\n",
       "      <td>0</td>\n",
       "      <td>10692</td>\n",
       "      <td>25.72</td>\n",
       "    </tr>\n",
       "    <tr>\n",
       "      <th>32</th>\n",
       "      <td>Upgrade</td>\n",
       "      <td>0</td>\n",
       "      <td>387</td>\n",
       "      <td>0.93</td>\n",
       "    </tr>\n",
       "  </tbody>\n",
       "</table>\n",
       "</div>"
      ],
      "text/plain": [
       "                         page  churn  count      %\n",
       "0                       About      0    439   1.06\n",
       "2                  Add Friend      0   3641   8.76\n",
       "4             Add to Playlist      0   5488  13.20\n",
       "0                      Cancel      0      0   0.00\n",
       "1   Cancellation Confirmation      0      0   0.00\n",
       "8                   Downgrade      0   1718   4.13\n",
       "10                      Error      0    220   0.53\n",
       "12                       Help      0   1215   2.92\n",
       "14                       Home      0   8410  20.23\n",
       "16                     Logout      0   2673   6.43\n",
       "18                Roll Advert      0   2966   7.13\n",
       "20              Save Settings      0    252   0.61\n",
       "22                   Settings      0   1244   2.99\n",
       "24           Submit Downgrade      0     54   0.13\n",
       "26             Submit Upgrade      0    127   0.31\n",
       "28                Thumbs Down      0   2050   4.93\n",
       "30                  Thumbs Up      0  10692  25.72\n",
       "32                    Upgrade      0    387   0.93"
      ]
     },
     "execution_count": 129,
     "metadata": {},
     "output_type": "execute_result"
    }
   ],
   "source": [
    "df_not_c"
   ]
  },
  {
   "cell_type": "code",
   "execution_count": 130,
   "metadata": {
    "ExecuteTime": {
     "end_time": "2020-07-21T22:44:44.145481Z",
     "start_time": "2020-07-21T22:44:44.140911Z"
    }
   },
   "outputs": [],
   "source": [
    "df_c = pdf_page[pdf_page['churn'] == 1].copy()"
   ]
  },
  {
   "cell_type": "code",
   "execution_count": 131,
   "metadata": {
    "ExecuteTime": {
     "end_time": "2020-07-21T22:44:44.153041Z",
     "start_time": "2020-07-21T22:44:44.148118Z"
    }
   },
   "outputs": [],
   "source": [
    "df_c[\"%\"] = df_c['count'].apply(lambda x: round(x/sum(df_c['count'])*100, 2))"
   ]
  },
  {
   "cell_type": "code",
   "execution_count": 132,
   "metadata": {
    "ExecuteTime": {
     "end_time": "2020-07-21T22:44:44.169692Z",
     "start_time": "2020-07-21T22:44:44.154965Z"
    }
   },
   "outputs": [
    {
     "data": {
      "text/html": [
       "<div>\n",
       "<style scoped>\n",
       "    .dataframe tbody tr th:only-of-type {\n",
       "        vertical-align: middle;\n",
       "    }\n",
       "\n",
       "    .dataframe tbody tr th {\n",
       "        vertical-align: top;\n",
       "    }\n",
       "\n",
       "    .dataframe thead th {\n",
       "        text-align: right;\n",
       "    }\n",
       "</style>\n",
       "<table border=\"1\" class=\"dataframe\">\n",
       "  <thead>\n",
       "    <tr style=\"text-align: right;\">\n",
       "      <th></th>\n",
       "      <th>page</th>\n",
       "      <th>churn</th>\n",
       "      <th>count</th>\n",
       "      <th>%</th>\n",
       "    </tr>\n",
       "  </thead>\n",
       "  <tbody>\n",
       "    <tr>\n",
       "      <th>1</th>\n",
       "      <td>About</td>\n",
       "      <td>1</td>\n",
       "      <td>56</td>\n",
       "      <td>0.66</td>\n",
       "    </tr>\n",
       "    <tr>\n",
       "      <th>3</th>\n",
       "      <td>Add Friend</td>\n",
       "      <td>1</td>\n",
       "      <td>636</td>\n",
       "      <td>7.51</td>\n",
       "    </tr>\n",
       "    <tr>\n",
       "      <th>5</th>\n",
       "      <td>Add to Playlist</td>\n",
       "      <td>1</td>\n",
       "      <td>1038</td>\n",
       "      <td>12.26</td>\n",
       "    </tr>\n",
       "    <tr>\n",
       "      <th>6</th>\n",
       "      <td>Cancel</td>\n",
       "      <td>1</td>\n",
       "      <td>52</td>\n",
       "      <td>0.61</td>\n",
       "    </tr>\n",
       "    <tr>\n",
       "      <th>7</th>\n",
       "      <td>Cancellation Confirmation</td>\n",
       "      <td>1</td>\n",
       "      <td>52</td>\n",
       "      <td>0.61</td>\n",
       "    </tr>\n",
       "    <tr>\n",
       "      <th>9</th>\n",
       "      <td>Downgrade</td>\n",
       "      <td>1</td>\n",
       "      <td>337</td>\n",
       "      <td>3.98</td>\n",
       "    </tr>\n",
       "    <tr>\n",
       "      <th>11</th>\n",
       "      <td>Error</td>\n",
       "      <td>1</td>\n",
       "      <td>32</td>\n",
       "      <td>0.38</td>\n",
       "    </tr>\n",
       "    <tr>\n",
       "      <th>13</th>\n",
       "      <td>Help</td>\n",
       "      <td>1</td>\n",
       "      <td>239</td>\n",
       "      <td>2.82</td>\n",
       "    </tr>\n",
       "    <tr>\n",
       "      <th>15</th>\n",
       "      <td>Home</td>\n",
       "      <td>1</td>\n",
       "      <td>1672</td>\n",
       "      <td>19.74</td>\n",
       "    </tr>\n",
       "    <tr>\n",
       "      <th>17</th>\n",
       "      <td>Logout</td>\n",
       "      <td>1</td>\n",
       "      <td>553</td>\n",
       "      <td>6.53</td>\n",
       "    </tr>\n",
       "    <tr>\n",
       "      <th>19</th>\n",
       "      <td>Roll Advert</td>\n",
       "      <td>1</td>\n",
       "      <td>967</td>\n",
       "      <td>11.42</td>\n",
       "    </tr>\n",
       "    <tr>\n",
       "      <th>21</th>\n",
       "      <td>Save Settings</td>\n",
       "      <td>1</td>\n",
       "      <td>58</td>\n",
       "      <td>0.68</td>\n",
       "    </tr>\n",
       "    <tr>\n",
       "      <th>23</th>\n",
       "      <td>Settings</td>\n",
       "      <td>1</td>\n",
       "      <td>270</td>\n",
       "      <td>3.19</td>\n",
       "    </tr>\n",
       "    <tr>\n",
       "      <th>25</th>\n",
       "      <td>Submit Downgrade</td>\n",
       "      <td>1</td>\n",
       "      <td>9</td>\n",
       "      <td>0.11</td>\n",
       "    </tr>\n",
       "    <tr>\n",
       "      <th>27</th>\n",
       "      <td>Submit Upgrade</td>\n",
       "      <td>1</td>\n",
       "      <td>32</td>\n",
       "      <td>0.38</td>\n",
       "    </tr>\n",
       "    <tr>\n",
       "      <th>29</th>\n",
       "      <td>Thumbs Down</td>\n",
       "      <td>1</td>\n",
       "      <td>496</td>\n",
       "      <td>5.86</td>\n",
       "    </tr>\n",
       "    <tr>\n",
       "      <th>31</th>\n",
       "      <td>Thumbs Up</td>\n",
       "      <td>1</td>\n",
       "      <td>1859</td>\n",
       "      <td>21.95</td>\n",
       "    </tr>\n",
       "    <tr>\n",
       "      <th>33</th>\n",
       "      <td>Upgrade</td>\n",
       "      <td>1</td>\n",
       "      <td>112</td>\n",
       "      <td>1.32</td>\n",
       "    </tr>\n",
       "  </tbody>\n",
       "</table>\n",
       "</div>"
      ],
      "text/plain": [
       "                         page  churn  count      %\n",
       "1                       About      1     56   0.66\n",
       "3                  Add Friend      1    636   7.51\n",
       "5             Add to Playlist      1   1038  12.26\n",
       "6                      Cancel      1     52   0.61\n",
       "7   Cancellation Confirmation      1     52   0.61\n",
       "9                   Downgrade      1    337   3.98\n",
       "11                      Error      1     32   0.38\n",
       "13                       Help      1    239   2.82\n",
       "15                       Home      1   1672  19.74\n",
       "17                     Logout      1    553   6.53\n",
       "19                Roll Advert      1    967  11.42\n",
       "21              Save Settings      1     58   0.68\n",
       "23                   Settings      1    270   3.19\n",
       "25           Submit Downgrade      1      9   0.11\n",
       "27             Submit Upgrade      1     32   0.38\n",
       "29                Thumbs Down      1    496   5.86\n",
       "31                  Thumbs Up      1   1859  21.95\n",
       "33                    Upgrade      1    112   1.32"
      ]
     },
     "execution_count": 132,
     "metadata": {},
     "output_type": "execute_result"
    }
   ],
   "source": [
    "df_c"
   ]
  },
  {
   "cell_type": "code",
   "execution_count": 133,
   "metadata": {
    "ExecuteTime": {
     "end_time": "2020-07-21T22:44:44.175654Z",
     "start_time": "2020-07-21T22:44:44.171955Z"
    }
   },
   "outputs": [],
   "source": [
    "df_c_full = pd.concat([df_not_c, df_c])"
   ]
  },
  {
   "cell_type": "code",
   "execution_count": 134,
   "metadata": {
    "ExecuteTime": {
     "end_time": "2020-07-21T22:44:44.183451Z",
     "start_time": "2020-07-21T22:44:44.177757Z"
    }
   },
   "outputs": [],
   "source": [
    "df_c_full.sort_values(by=['page', 'churn'], inplace=True)"
   ]
  },
  {
   "cell_type": "code",
   "execution_count": 135,
   "metadata": {
    "ExecuteTime": {
     "end_time": "2020-07-21T22:44:44.201038Z",
     "start_time": "2020-07-21T22:44:44.185409Z"
    },
    "scrolled": true
   },
   "outputs": [
    {
     "data": {
      "text/html": [
       "<div>\n",
       "<style scoped>\n",
       "    .dataframe tbody tr th:only-of-type {\n",
       "        vertical-align: middle;\n",
       "    }\n",
       "\n",
       "    .dataframe tbody tr th {\n",
       "        vertical-align: top;\n",
       "    }\n",
       "\n",
       "    .dataframe thead th {\n",
       "        text-align: right;\n",
       "    }\n",
       "</style>\n",
       "<table border=\"1\" class=\"dataframe\">\n",
       "  <thead>\n",
       "    <tr style=\"text-align: right;\">\n",
       "      <th></th>\n",
       "      <th>page</th>\n",
       "      <th>churn</th>\n",
       "      <th>count</th>\n",
       "      <th>%</th>\n",
       "    </tr>\n",
       "  </thead>\n",
       "  <tbody>\n",
       "    <tr>\n",
       "      <th>0</th>\n",
       "      <td>About</td>\n",
       "      <td>0</td>\n",
       "      <td>439</td>\n",
       "      <td>1.06</td>\n",
       "    </tr>\n",
       "    <tr>\n",
       "      <th>1</th>\n",
       "      <td>About</td>\n",
       "      <td>1</td>\n",
       "      <td>56</td>\n",
       "      <td>0.66</td>\n",
       "    </tr>\n",
       "    <tr>\n",
       "      <th>2</th>\n",
       "      <td>Add Friend</td>\n",
       "      <td>0</td>\n",
       "      <td>3641</td>\n",
       "      <td>8.76</td>\n",
       "    </tr>\n",
       "    <tr>\n",
       "      <th>3</th>\n",
       "      <td>Add Friend</td>\n",
       "      <td>1</td>\n",
       "      <td>636</td>\n",
       "      <td>7.51</td>\n",
       "    </tr>\n",
       "    <tr>\n",
       "      <th>4</th>\n",
       "      <td>Add to Playlist</td>\n",
       "      <td>0</td>\n",
       "      <td>5488</td>\n",
       "      <td>13.20</td>\n",
       "    </tr>\n",
       "    <tr>\n",
       "      <th>5</th>\n",
       "      <td>Add to Playlist</td>\n",
       "      <td>1</td>\n",
       "      <td>1038</td>\n",
       "      <td>12.26</td>\n",
       "    </tr>\n",
       "    <tr>\n",
       "      <th>0</th>\n",
       "      <td>Cancel</td>\n",
       "      <td>0</td>\n",
       "      <td>0</td>\n",
       "      <td>0.00</td>\n",
       "    </tr>\n",
       "    <tr>\n",
       "      <th>6</th>\n",
       "      <td>Cancel</td>\n",
       "      <td>1</td>\n",
       "      <td>52</td>\n",
       "      <td>0.61</td>\n",
       "    </tr>\n",
       "    <tr>\n",
       "      <th>1</th>\n",
       "      <td>Cancellation Confirmation</td>\n",
       "      <td>0</td>\n",
       "      <td>0</td>\n",
       "      <td>0.00</td>\n",
       "    </tr>\n",
       "    <tr>\n",
       "      <th>7</th>\n",
       "      <td>Cancellation Confirmation</td>\n",
       "      <td>1</td>\n",
       "      <td>52</td>\n",
       "      <td>0.61</td>\n",
       "    </tr>\n",
       "    <tr>\n",
       "      <th>8</th>\n",
       "      <td>Downgrade</td>\n",
       "      <td>0</td>\n",
       "      <td>1718</td>\n",
       "      <td>4.13</td>\n",
       "    </tr>\n",
       "    <tr>\n",
       "      <th>9</th>\n",
       "      <td>Downgrade</td>\n",
       "      <td>1</td>\n",
       "      <td>337</td>\n",
       "      <td>3.98</td>\n",
       "    </tr>\n",
       "    <tr>\n",
       "      <th>10</th>\n",
       "      <td>Error</td>\n",
       "      <td>0</td>\n",
       "      <td>220</td>\n",
       "      <td>0.53</td>\n",
       "    </tr>\n",
       "    <tr>\n",
       "      <th>11</th>\n",
       "      <td>Error</td>\n",
       "      <td>1</td>\n",
       "      <td>32</td>\n",
       "      <td>0.38</td>\n",
       "    </tr>\n",
       "    <tr>\n",
       "      <th>12</th>\n",
       "      <td>Help</td>\n",
       "      <td>0</td>\n",
       "      <td>1215</td>\n",
       "      <td>2.92</td>\n",
       "    </tr>\n",
       "    <tr>\n",
       "      <th>13</th>\n",
       "      <td>Help</td>\n",
       "      <td>1</td>\n",
       "      <td>239</td>\n",
       "      <td>2.82</td>\n",
       "    </tr>\n",
       "    <tr>\n",
       "      <th>14</th>\n",
       "      <td>Home</td>\n",
       "      <td>0</td>\n",
       "      <td>8410</td>\n",
       "      <td>20.23</td>\n",
       "    </tr>\n",
       "    <tr>\n",
       "      <th>15</th>\n",
       "      <td>Home</td>\n",
       "      <td>1</td>\n",
       "      <td>1672</td>\n",
       "      <td>19.74</td>\n",
       "    </tr>\n",
       "    <tr>\n",
       "      <th>16</th>\n",
       "      <td>Logout</td>\n",
       "      <td>0</td>\n",
       "      <td>2673</td>\n",
       "      <td>6.43</td>\n",
       "    </tr>\n",
       "    <tr>\n",
       "      <th>17</th>\n",
       "      <td>Logout</td>\n",
       "      <td>1</td>\n",
       "      <td>553</td>\n",
       "      <td>6.53</td>\n",
       "    </tr>\n",
       "    <tr>\n",
       "      <th>18</th>\n",
       "      <td>Roll Advert</td>\n",
       "      <td>0</td>\n",
       "      <td>2966</td>\n",
       "      <td>7.13</td>\n",
       "    </tr>\n",
       "    <tr>\n",
       "      <th>19</th>\n",
       "      <td>Roll Advert</td>\n",
       "      <td>1</td>\n",
       "      <td>967</td>\n",
       "      <td>11.42</td>\n",
       "    </tr>\n",
       "    <tr>\n",
       "      <th>20</th>\n",
       "      <td>Save Settings</td>\n",
       "      <td>0</td>\n",
       "      <td>252</td>\n",
       "      <td>0.61</td>\n",
       "    </tr>\n",
       "    <tr>\n",
       "      <th>21</th>\n",
       "      <td>Save Settings</td>\n",
       "      <td>1</td>\n",
       "      <td>58</td>\n",
       "      <td>0.68</td>\n",
       "    </tr>\n",
       "    <tr>\n",
       "      <th>22</th>\n",
       "      <td>Settings</td>\n",
       "      <td>0</td>\n",
       "      <td>1244</td>\n",
       "      <td>2.99</td>\n",
       "    </tr>\n",
       "    <tr>\n",
       "      <th>23</th>\n",
       "      <td>Settings</td>\n",
       "      <td>1</td>\n",
       "      <td>270</td>\n",
       "      <td>3.19</td>\n",
       "    </tr>\n",
       "    <tr>\n",
       "      <th>24</th>\n",
       "      <td>Submit Downgrade</td>\n",
       "      <td>0</td>\n",
       "      <td>54</td>\n",
       "      <td>0.13</td>\n",
       "    </tr>\n",
       "    <tr>\n",
       "      <th>25</th>\n",
       "      <td>Submit Downgrade</td>\n",
       "      <td>1</td>\n",
       "      <td>9</td>\n",
       "      <td>0.11</td>\n",
       "    </tr>\n",
       "    <tr>\n",
       "      <th>26</th>\n",
       "      <td>Submit Upgrade</td>\n",
       "      <td>0</td>\n",
       "      <td>127</td>\n",
       "      <td>0.31</td>\n",
       "    </tr>\n",
       "    <tr>\n",
       "      <th>27</th>\n",
       "      <td>Submit Upgrade</td>\n",
       "      <td>1</td>\n",
       "      <td>32</td>\n",
       "      <td>0.38</td>\n",
       "    </tr>\n",
       "    <tr>\n",
       "      <th>28</th>\n",
       "      <td>Thumbs Down</td>\n",
       "      <td>0</td>\n",
       "      <td>2050</td>\n",
       "      <td>4.93</td>\n",
       "    </tr>\n",
       "    <tr>\n",
       "      <th>29</th>\n",
       "      <td>Thumbs Down</td>\n",
       "      <td>1</td>\n",
       "      <td>496</td>\n",
       "      <td>5.86</td>\n",
       "    </tr>\n",
       "    <tr>\n",
       "      <th>30</th>\n",
       "      <td>Thumbs Up</td>\n",
       "      <td>0</td>\n",
       "      <td>10692</td>\n",
       "      <td>25.72</td>\n",
       "    </tr>\n",
       "    <tr>\n",
       "      <th>31</th>\n",
       "      <td>Thumbs Up</td>\n",
       "      <td>1</td>\n",
       "      <td>1859</td>\n",
       "      <td>21.95</td>\n",
       "    </tr>\n",
       "    <tr>\n",
       "      <th>32</th>\n",
       "      <td>Upgrade</td>\n",
       "      <td>0</td>\n",
       "      <td>387</td>\n",
       "      <td>0.93</td>\n",
       "    </tr>\n",
       "    <tr>\n",
       "      <th>33</th>\n",
       "      <td>Upgrade</td>\n",
       "      <td>1</td>\n",
       "      <td>112</td>\n",
       "      <td>1.32</td>\n",
       "    </tr>\n",
       "  </tbody>\n",
       "</table>\n",
       "</div>"
      ],
      "text/plain": [
       "                         page  churn  count      %\n",
       "0                       About      0    439   1.06\n",
       "1                       About      1     56   0.66\n",
       "2                  Add Friend      0   3641   8.76\n",
       "3                  Add Friend      1    636   7.51\n",
       "4             Add to Playlist      0   5488  13.20\n",
       "5             Add to Playlist      1   1038  12.26\n",
       "0                      Cancel      0      0   0.00\n",
       "6                      Cancel      1     52   0.61\n",
       "1   Cancellation Confirmation      0      0   0.00\n",
       "7   Cancellation Confirmation      1     52   0.61\n",
       "8                   Downgrade      0   1718   4.13\n",
       "9                   Downgrade      1    337   3.98\n",
       "10                      Error      0    220   0.53\n",
       "11                      Error      1     32   0.38\n",
       "12                       Help      0   1215   2.92\n",
       "13                       Help      1    239   2.82\n",
       "14                       Home      0   8410  20.23\n",
       "15                       Home      1   1672  19.74\n",
       "16                     Logout      0   2673   6.43\n",
       "17                     Logout      1    553   6.53\n",
       "18                Roll Advert      0   2966   7.13\n",
       "19                Roll Advert      1    967  11.42\n",
       "20              Save Settings      0    252   0.61\n",
       "21              Save Settings      1     58   0.68\n",
       "22                   Settings      0   1244   2.99\n",
       "23                   Settings      1    270   3.19\n",
       "24           Submit Downgrade      0     54   0.13\n",
       "25           Submit Downgrade      1      9   0.11\n",
       "26             Submit Upgrade      0    127   0.31\n",
       "27             Submit Upgrade      1     32   0.38\n",
       "28                Thumbs Down      0   2050   4.93\n",
       "29                Thumbs Down      1    496   5.86\n",
       "30                  Thumbs Up      0  10692  25.72\n",
       "31                  Thumbs Up      1   1859  21.95\n",
       "32                    Upgrade      0    387   0.93\n",
       "33                    Upgrade      1    112   1.32"
      ]
     },
     "execution_count": 135,
     "metadata": {},
     "output_type": "execute_result"
    }
   ],
   "source": [
    "df_c_full"
   ]
  },
  {
   "cell_type": "code",
   "execution_count": 136,
   "metadata": {
    "ExecuteTime": {
     "end_time": "2020-07-21T22:44:44.669907Z",
     "start_time": "2020-07-21T22:44:44.204063Z"
    }
   },
   "outputs": [
    {
     "data": {
      "image/png": "[encoded data removed]",
      "text/plain": [
       "<Figure size 1440x864 with 1 Axes>"
      ]
     },
     "metadata": {
      "needs_background": "light"
     },
     "output_type": "display_data"
    }
   ],
   "source": [
    "fig, ax = plt.subplots(figsize=(20, 12))\n",
    "x_val1 = np.arange(0, df_c_full[df_c_full['churn']==0].shape[0], 1)\n",
    "width = 0.4\n",
    "rects1 = ax.bar(x=x_val1-width/2, \n",
    "                height=df_c_full[df_c_full['churn']==0]['%'], \n",
    "                color='red', \n",
    "                label='Not Churned', \n",
    "                width=width)\n",
    "rects2 = ax.bar(x=x_val1+width/2,\n",
    "                height=df_c_full[df_c_full['churn']==1]['%'], \n",
    "                color='blue', \n",
    "                label='Churned', \n",
    "                width=width)\n",
    "\n",
    "ax.set_xticks(x_val1)\n",
    "\n",
    "def set_datalabels(rects):\n",
    "    for rect in rects:\n",
    "        height = rect.get_height()\n",
    "        width = rect.get_width()\n",
    "        xb = rect.get_x()\n",
    "        ax.text(xb + width/2, \n",
    "                height+0.5, \n",
    "                s=str(height)+\" %\", \n",
    "                rotation=90, \n",
    "                va='bottom', \n",
    "                ha='center', \n",
    "                fontsize=14)\n",
    "        \n",
    "ax.set_xticks(x_val1)\n",
    "ax.set_xticklabels([x for x in df_c_full['page'].unique()], rotation=90, fontsize=15, fontweight='bold')\n",
    "\n",
    "set_datalabels(rects1)\n",
    "set_datalabels(rects2)\n",
    "plt.legend(fontsize=16)\n",
    "plt.show()"
   ]
  },
  {
   "cell_type": "markdown",
   "metadata": {},
   "source": [
    "Based on the above data we can get some information about users that churned:\n",
    "- <b>Roll Advert</b> - we can see that we have significant amount of the people is annoyed by advertisments\n",
    "- <b>Thumbs Down</b> - based on this we can assume that users did not like the songs or the selection (it is possible that suggestion of the songs was not up to the taste of the User - algorithm needs some improvements?)\n",
    "- <b>Settings</b> - looks like users that churned has also slightly higher percentage of visiting settings, maybe they are looking for functionality that was in other apps or/and it is a bit confusing for the to navigate"
   ]
  },
  {
   "cell_type": "markdown",
   "metadata": {},
   "source": [
    "Next step lets look at the location of the users"
   ]
  },
  {
   "cell_type": "code",
   "execution_count": 137,
   "metadata": {
    "ExecuteTime": {
     "end_time": "2020-07-21T22:44:48.735067Z",
     "start_time": "2020-07-21T22:44:44.671578Z"
    }
   },
   "outputs": [
    {
     "name": "stdout",
     "output_type": "stream",
     "text": [
      "+--------------------+-----+-----+\n",
      "|            location|churn|count|\n",
      "+--------------------+-----+-----+\n",
      "|        Logan, UT-ID|    0|    1|\n",
      "|Boston-Cambridge-...|    0|    5|\n",
      "|New York-Newark-J...|    1|    5|\n",
      "|        Billings, MT|    0|    1|\n",
      "|Allentown-Bethleh...|    0|    1|\n",
      "|Hagerstown-Martin...|    0|    1|\n",
      "|San Diego-Carlsba...|    0|    2|\n",
      "|Chicago-Napervill...|    1|    1|\n",
      "|Orlando-Kissimmee...|    1|    1|\n",
      "|       Fairbanks, AK|    0|    1|\n",
      "|Tampa-St. Petersb...|    0|    2|\n",
      "|Phoenix-Mesa-Scot...|    0|    5|\n",
      "|Virginia Beach-No...|    0|    1|\n",
      "|         Raleigh, NC|    0|    1|\n",
      "|Birmingham-Hoover...|    1|    1|\n",
      "|   Oklahoma City, OK|    0|    1|\n",
      "|San Antonio-New B...|    0|    2|\n",
      "|Baltimore-Columbi...|    0|    1|\n",
      "|           Price, UT|    0|    1|\n",
      "|New York-Newark-J...|    0|   10|\n",
      "+--------------------+-----+-----+\n",
      "only showing top 20 rows\n",
      "\n"
     ]
    }
   ],
   "source": [
    "df.dropDuplicates(['userId', 'location']).groupBy(['location', 'churn']).count().show()"
   ]
  },
  {
   "cell_type": "markdown",
   "metadata": {},
   "source": [
    "based on the above we will need to split location into city and state"
   ]
  },
  {
   "cell_type": "code",
   "execution_count": 138,
   "metadata": {
    "ExecuteTime": {
     "end_time": "2020-07-21T22:44:48.748363Z",
     "start_time": "2020-07-21T22:44:48.738059Z"
    }
   },
   "outputs": [],
   "source": [
    "get_state = udf(lambda x: x.split(',')[1].strip())"
   ]
  },
  {
   "cell_type": "code",
   "execution_count": 139,
   "metadata": {
    "ExecuteTime": {
     "end_time": "2020-07-21T22:44:48.809864Z",
     "start_time": "2020-07-21T22:44:48.751141Z"
    }
   },
   "outputs": [],
   "source": [
    "df = df.withColumn('State', get_state(df['location']))"
   ]
  },
  {
   "cell_type": "code",
   "execution_count": 140,
   "metadata": {
    "ExecuteTime": {
     "end_time": "2020-07-21T22:44:48.817560Z",
     "start_time": "2020-07-21T22:44:48.812597Z"
    },
    "scrolled": false
   },
   "outputs": [
    {
     "name": "stdout",
     "output_type": "stream",
     "text": [
      "root\n",
      " |-- artist: string (nullable = true)\n",
      " |-- auth: string (nullable = true)\n",
      " |-- firstName: string (nullable = true)\n",
      " |-- gender: string (nullable = true)\n",
      " |-- itemInSession: long (nullable = true)\n",
      " |-- lastName: string (nullable = true)\n",
      " |-- length: double (nullable = true)\n",
      " |-- level: string (nullable = true)\n",
      " |-- location: string (nullable = true)\n",
      " |-- method: string (nullable = true)\n",
      " |-- page: string (nullable = true)\n",
      " |-- registration: long (nullable = true)\n",
      " |-- sessionId: long (nullable = true)\n",
      " |-- song: string (nullable = true)\n",
      " |-- status: long (nullable = true)\n",
      " |-- ts: timestamp (nullable = true)\n",
      " |-- userAgent: string (nullable = true)\n",
      " |-- userId: string (nullable = true)\n",
      " |-- churn: long (nullable = true)\n",
      " |-- State: string (nullable = true)\n",
      "\n"
     ]
    }
   ],
   "source": [
    "df.printSchema()"
   ]
  },
  {
   "cell_type": "code",
   "execution_count": 235,
   "metadata": {
    "ExecuteTime": {
     "end_time": "2020-07-22T04:10:41.273152Z",
     "start_time": "2020-07-22T04:10:37.120539Z"
    }
   },
   "outputs": [
    {
     "name": "stdout",
     "output_type": "stream",
     "text": [
      "+-----------+-----+-----+\n",
      "|      State|churn|count|\n",
      "+-----------+-----+-----+\n",
      "|         WV|    0| 2278|\n",
      "|         WI|    0| 1342|\n",
      "|         WA|    1| 3526|\n",
      "|         WA|    0|  246|\n",
      "|      VA-NC|    1|  149|\n",
      "|      VA-NC|    0|   97|\n",
      "|         VA|    0| 4651|\n",
      "|      UT-ID|    0|  317|\n",
      "|         UT|    0| 1102|\n",
      "|         TX|    1| 1294|\n",
      "|         TX|    0|22200|\n",
      "|      TN-VA|    0| 1863|\n",
      "|   TN-MS-AR|    1|   62|\n",
      "|         TN|    0| 1672|\n",
      "|      SC-NC|    0|  837|\n",
      "|         SC|    1|  494|\n",
      "|         SC|    0|  174|\n",
      "|      RI-MA|    0|  927|\n",
      "|PA-NJ-DE-MD|    1| 1580|\n",
      "|PA-NJ-DE-MD|    0| 4310|\n",
      "+-----------+-----+-----+\n",
      "only showing top 20 rows\n",
      "\n"
     ]
    }
   ],
   "source": [
    "df.groupBy(['State', 'churn']).count().orderBy(['State', 'churn'], ascending=False).show()"
   ]
  },
  {
   "cell_type": "code",
   "execution_count": 236,
   "metadata": {
    "ExecuteTime": {
     "end_time": "2020-07-22T14:14:02.128515Z",
     "start_time": "2020-07-22T14:13:56.538661Z"
    }
   },
   "outputs": [],
   "source": [
    "pdf_states = df.groupBy(['State', 'churn']).count().orderBy(['State', 'churn'], ascending=False).toPandas()"
   ]
  },
  {
   "cell_type": "code",
   "execution_count": 241,
   "metadata": {
    "ExecuteTime": {
     "end_time": "2020-07-22T14:17:38.377709Z",
     "start_time": "2020-07-22T14:17:38.367939Z"
    }
   },
   "outputs": [
    {
     "data": {
      "text/plain": [
       "((54,), (29,))"
      ]
     },
     "execution_count": 241,
     "metadata": {},
     "output_type": "execute_result"
    }
   ],
   "source": [
    "pdf_states[pdf_states['churn'] == 0]['State'].shape, pdf_states[pdf_states['churn'] == 1]['State'].shape"
   ]
  },
  {
   "cell_type": "code",
   "execution_count": 240,
   "metadata": {
    "ExecuteTime": {
     "end_time": "2020-07-22T14:16:22.759749Z",
     "start_time": "2020-07-22T14:16:22.123290Z"
    }
   },
   "outputs": [
    {
     "data": {
      "image/png": "[encoded data removed]",
      "text/plain": [
       "<Figure size 1440x720 with 1 Axes>"
      ]
     },
     "metadata": {
      "needs_background": "light"
     },
     "output_type": "display_data"
    }
   ],
   "source": [
    "fig, ax = plt.subplots(figsize=[20, 10])\n",
    "ax.bar(x=pdf_states[pdf_states['churn'] == 0]['State'],\n",
    "      height=pdf_states[pdf_states['churn'] == 0]['count'],\n",
    "      width=0.3)\n",
    "ax.bar(x=pdf_states[pdf_states['churn'] == 1]['State'],\n",
    "      height=pdf_states[pdf_states['churn'] == 1]['count'],\n",
    "      width=0.2)\n",
    "\n",
    "plt.show()"
   ]
  },
  {
   "cell_type": "markdown",
   "metadata": {},
   "source": [
    "Let us normalize the data and display it as percentage"
   ]
  },
  {
   "cell_type": "code",
   "execution_count": null,
   "metadata": {},
   "outputs": [],
   "source": []
  },
  {
   "cell_type": "code",
   "execution_count": null,
   "metadata": {},
   "outputs": [],
   "source": []
  },
  {
   "cell_type": "code",
   "execution_count": null,
   "metadata": {},
   "outputs": [],
   "source": []
  },
  {
   "cell_type": "code",
   "execution_count": null,
   "metadata": {},
   "outputs": [],
   "source": []
  },
  {
   "cell_type": "markdown",
   "metadata": {},
   "source": [
    "Maybe HTTP status will yield some better results."
   ]
  },
  {
   "cell_type": "code",
   "execution_count": 142,
   "metadata": {
    "ExecuteTime": {
     "end_time": "2020-07-21T22:45:00.339046Z",
     "start_time": "2020-07-21T22:44:55.023176Z"
    }
   },
   "outputs": [
    {
     "name": "stdout",
     "output_type": "stream",
     "text": [
      "+------+-----+-----+\n",
      "|status|churn|count|\n",
      "+------+-----+-----+\n",
      "|   200|    0|  173|\n",
      "|   200|    1|   52|\n",
      "|   307|    0|  171|\n",
      "|   307|    1|   52|\n",
      "|   404|    0|   95|\n",
      "|   404|    1|   22|\n",
      "+------+-----+-----+\n",
      "\n"
     ]
    }
   ],
   "source": [
    "df.dropDuplicates(['userId', 'status']).groupBy(['status', 'churn']).count().orderBy(['status', 'churn']).show()"
   ]
  },
  {
   "cell_type": "markdown",
   "metadata": {},
   "source": [
    "Again nothing significant over here"
   ]
  },
  {
   "cell_type": "markdown",
   "metadata": {
    "ExecuteTime": {
     "end_time": "2020-07-21T03:51:08.964180Z",
     "start_time": "2020-07-21T03:51:08.960776Z"
    }
   },
   "source": [
    "Now let us move to time exploration"
   ]
  },
  {
   "cell_type": "code",
   "execution_count": 143,
   "metadata": {
    "ExecuteTime": {
     "end_time": "2020-07-21T22:45:04.878252Z",
     "start_time": "2020-07-21T22:45:00.341432Z"
    }
   },
   "outputs": [
    {
     "name": "stdout",
     "output_type": "stream",
     "text": [
      "+--------------------+---------+---------+------+-------------+---------+---------+-----+--------------------+------+---------+-------------+---------+--------------------+------+-------------------+--------------------+------+-----+-----+\n",
      "|              artist|     auth|firstName|gender|itemInSession| lastName|   length|level|            location|method|     page| registration|sessionId|                song|status|                 ts|           userAgent|userId|churn|State|\n",
      "+--------------------+---------+---------+------+-------------+---------+---------+-----+--------------------+------+---------+-------------+---------+--------------------+------+-------------------+--------------------+------+-----+-----+\n",
      "|Sleeping With Sirens|Logged In| Darianna|     F|            0|Carpenter|202.97098| free|Bridgeport-Stamfo...|   PUT| NextSong|1538016340000|       31|Captain Tyin Knot...|   200|2018-10-08 07:58:54|\"Mozilla/5.0 (iPh...|100010|    0|   CT|\n",
      "|Francesca Battist...|Logged In| Darianna|     F|            1|Carpenter|196.54485| free|Bridgeport-Stamfo...|   PUT| NextSong|1538016340000|       31|Beautiful_ Beauti...|   200|2018-10-08 08:02:16|\"Mozilla/5.0 (iPh...|100010|    0|   CT|\n",
      "|              Brutha|Logged In| Darianna|     F|            2|Carpenter|263.13098| free|Bridgeport-Stamfo...|   PUT| NextSong|1538016340000|       31|          She's Gone|   200|2018-10-08 08:05:32|\"Mozilla/5.0 (iPh...|100010|    0|   CT|\n",
      "|                null|Logged In| Darianna|     F|            3|Carpenter|     null| free|Bridgeport-Stamfo...|   PUT|Thumbs Up|1538016340000|       31|                null|   307|2018-10-08 08:05:33|\"Mozilla/5.0 (iPh...|100010|    0|   CT|\n",
      "|         Josh Ritter|Logged In| Darianna|     F|            4|Carpenter|316.23791| free|Bridgeport-Stamfo...|   PUT| NextSong|1538016340000|       31|      Folk Bloodbath|   200|2018-10-08 08:09:55|\"Mozilla/5.0 (iPh...|100010|    0|   CT|\n",
      "+--------------------+---------+---------+------+-------------+---------+---------+-----+--------------------+------+---------+-------------+---------+--------------------+------+-------------------+--------------------+------+-----+-----+\n",
      "only showing top 5 rows\n",
      "\n"
     ]
    }
   ],
   "source": [
    "df.show(5)"
   ]
  },
  {
   "cell_type": "markdown",
   "metadata": {},
   "source": [
    "ok looks like ts (timestamp) is in miliseconds"
   ]
  },
  {
   "cell_type": "markdown",
   "metadata": {},
   "source": [
    "http://www.datasciencemadesimple.com/get-day-of-month-day-of-year-day-of-week-from-date-in-pyspark/#:~:text=In%20order%20to%20get%20day,year%20from%20date%20in%20pyspark. - this link has some nice explanation about how to obtain week days"
   ]
  },
  {
   "cell_type": "markdown",
   "metadata": {},
   "source": [
    "http://www.datasciencemadesimple.com/get-hours-minutes-seconds-and-milliseconds-from-timestamp-in-pyspark/#:~:text=In%20order%20to%20get%20hours,hour%20from%20timestamp%20in%20pyspark. - this link has some nice explenation about how to get hours/minutes/seconds from timestamp"
   ]
  },
  {
   "cell_type": "code",
   "execution_count": 161,
   "metadata": {
    "ExecuteTime": {
     "end_time": "2020-07-22T02:42:44.461577Z",
     "start_time": "2020-07-22T02:42:44.452146Z"
    }
   },
   "outputs": [],
   "source": [
    "from pyspark.sql.functions import to_timestamp\n",
    "from pyspark.sql.functions import date_format\n",
    "from pyspark.sql.functions import weekofyear\n",
    "from pyspark.sql.functions import hour"
   ]
  },
  {
   "cell_type": "code",
   "execution_count": 147,
   "metadata": {
    "ExecuteTime": {
     "end_time": "2020-07-21T22:56:12.795837Z",
     "start_time": "2020-07-21T22:56:12.787778Z"
    }
   },
   "outputs": [],
   "source": [
    "df = df.withColumn('ts', to_timestamp(df['ts']))"
   ]
  },
  {
   "cell_type": "code",
   "execution_count": 148,
   "metadata": {
    "ExecuteTime": {
     "end_time": "2020-07-21T22:56:39.044456Z",
     "start_time": "2020-07-21T22:56:35.954727Z"
    }
   },
   "outputs": [
    {
     "name": "stdout",
     "output_type": "stream",
     "text": [
      "+--------------------+---------+---------+------+-------------+---------+---------+-----+--------------------+------+-----------+-------------+---------+--------------------+------+-------------------+--------------------+------+-----+-----+\n",
      "|              artist|     auth|firstName|gender|itemInSession| lastName|   length|level|            location|method|       page| registration|sessionId|                song|status|                 ts|           userAgent|userId|churn|State|\n",
      "+--------------------+---------+---------+------+-------------+---------+---------+-----+--------------------+------+-----------+-------------+---------+--------------------+------+-------------------+--------------------+------+-----+-----+\n",
      "|Sleeping With Sirens|Logged In| Darianna|     F|            0|Carpenter|202.97098| free|Bridgeport-Stamfo...|   PUT|   NextSong|1538016340000|       31|Captain Tyin Knot...|   200|2018-10-08 07:58:54|\"Mozilla/5.0 (iPh...|100010|    0|   CT|\n",
      "|Francesca Battist...|Logged In| Darianna|     F|            1|Carpenter|196.54485| free|Bridgeport-Stamfo...|   PUT|   NextSong|1538016340000|       31|Beautiful_ Beauti...|   200|2018-10-08 08:02:16|\"Mozilla/5.0 (iPh...|100010|    0|   CT|\n",
      "|              Brutha|Logged In| Darianna|     F|            2|Carpenter|263.13098| free|Bridgeport-Stamfo...|   PUT|   NextSong|1538016340000|       31|          She's Gone|   200|2018-10-08 08:05:32|\"Mozilla/5.0 (iPh...|100010|    0|   CT|\n",
      "|                null|Logged In| Darianna|     F|            3|Carpenter|     null| free|Bridgeport-Stamfo...|   PUT|  Thumbs Up|1538016340000|       31|                null|   307|2018-10-08 08:05:33|\"Mozilla/5.0 (iPh...|100010|    0|   CT|\n",
      "|         Josh Ritter|Logged In| Darianna|     F|            4|Carpenter|316.23791| free|Bridgeport-Stamfo...|   PUT|   NextSong|1538016340000|       31|      Folk Bloodbath|   200|2018-10-08 08:09:55|\"Mozilla/5.0 (iPh...|100010|    0|   CT|\n",
      "|               LMFAO|Logged In| Darianna|     F|            5|Carpenter|183.74485| free|Bridgeport-Stamfo...|   PUT|   NextSong|1538016340000|       31|                 Yes|   200|2018-10-08 08:15:11|\"Mozilla/5.0 (iPh...|100010|    0|   CT|\n",
      "|         OneRepublic|Logged In| Darianna|     F|            6|Carpenter|224.67873| free|Bridgeport-Stamfo...|   PUT|   NextSong|1538016340000|       31|             Secrets|   200|2018-10-08 08:18:14|\"Mozilla/5.0 (iPh...|100010|    0|   CT|\n",
      "|       Dwight Yoakam|Logged In| Darianna|     F|            7|Carpenter| 239.3073| free|Bridgeport-Stamfo...|   PUT|   NextSong|1538016340000|       31|      You're The One|   200|2018-10-08 08:21:58|\"Mozilla/5.0 (iPh...|100010|    0|   CT|\n",
      "|                null|Logged In| Darianna|     F|            8|Carpenter|     null| free|Bridgeport-Stamfo...|   GET|Roll Advert|1538016340000|       31|                null|   200|2018-10-08 08:22:41|\"Mozilla/5.0 (iPh...|100010|    0|   CT|\n",
      "|      The Chordettes|Logged In| Darianna|     F|            9|Carpenter|142.41914| free|Bridgeport-Stamfo...|   PUT|   NextSong|1538016340000|       31|          Mr Sandman|   200|2018-10-08 08:25:57|\"Mozilla/5.0 (iPh...|100010|    0|   CT|\n",
      "|Coko featuring Ki...|Logged In| Darianna|     F|           10|Carpenter| 249.3122| free|Bridgeport-Stamfo...|   PUT|   NextSong|1538016340000|       31|           I Get Joy|   200|2018-10-08 08:28:19|\"Mozilla/5.0 (iPh...|100010|    0|   CT|\n",
      "|            The Cure|Logged In| Darianna|     F|           11|Carpenter| 52.27057| free|Bridgeport-Stamfo...|   PUT|   NextSong|1538016340000|       31|     The Final Sound|   200|2018-10-08 08:32:28|\"Mozilla/5.0 (iPh...|100010|    0|   CT|\n",
      "|                null|Logged In| Darianna|     F|           12|Carpenter|     null| free|Bridgeport-Stamfo...|   GET|Roll Advert|1538016340000|       31|                null|   200|2018-10-08 08:32:51|\"Mozilla/5.0 (iPh...|100010|    0|   CT|\n",
      "|Kid Cudi Vs Crookers|Logged In| Darianna|     F|           13|Carpenter|162.97751| free|Bridgeport-Stamfo...|   PUT|   NextSong|1538016340000|       31|        Day 'N' Nite|   200|2018-10-08 08:33:20|\"Mozilla/5.0 (iPh...|100010|    0|   CT|\n",
      "|                null|Logged In| Darianna|     F|           14|Carpenter|     null| free|Bridgeport-Stamfo...|   PUT|  Thumbs Up|1538016340000|       31|                null|   307|2018-10-08 08:33:21|\"Mozilla/5.0 (iPh...|100010|    0|   CT|\n",
      "|            Yeasayer|Logged In| Darianna|     F|           15|Carpenter|323.44771| free|Bridgeport-Stamfo...|   PUT|   NextSong|1538016340000|       31|                2080|   200|2018-10-08 08:36:02|\"Mozilla/5.0 (iPh...|100010|    0|   CT|\n",
      "|             Ben Lee|Logged In| Darianna|     F|           16|Carpenter|245.78567| free|Bridgeport-Stamfo...|   PUT|   NextSong|1538016340000|       31|        Ache For You|   200|2018-10-08 08:41:25|\"Mozilla/5.0 (iPh...|100010|    0|   CT|\n",
      "|                null|Logged In| Darianna|     F|           17|Carpenter|     null| free|Bridgeport-Stamfo...|   GET|Roll Advert|1538016340000|       31|                null|   200|2018-10-08 08:41:43|\"Mozilla/5.0 (iPh...|100010|    0|   CT|\n",
      "|  ? & The Mysterians|Logged In| Darianna|     F|           18|Carpenter|128.10404| free|Bridgeport-Stamfo...|   PUT|   NextSong|1538016340000|       31|    Just Like A Rose|   200|2018-10-08 08:45:30|\"Mozilla/5.0 (iPh...|100010|    0|   CT|\n",
      "|                null|Logged In| Darianna|     F|           19|Carpenter|     null| free|Bridgeport-Stamfo...|   GET|Roll Advert|1538016340000|       31|                null|   200|2018-10-08 08:45:31|\"Mozilla/5.0 (iPh...|100010|    0|   CT|\n",
      "+--------------------+---------+---------+------+-------------+---------+---------+-----+--------------------+------+-----------+-------------+---------+--------------------+------+-------------------+--------------------+------+-----+-----+\n",
      "only showing top 20 rows\n",
      "\n"
     ]
    }
   ],
   "source": [
    "df.show()"
   ]
  },
  {
   "cell_type": "code",
   "execution_count": 149,
   "metadata": {
    "ExecuteTime": {
     "end_time": "2020-07-21T22:56:53.385719Z",
     "start_time": "2020-07-21T22:56:50.339722Z"
    }
   },
   "outputs": [
    {
     "name": "stdout",
     "output_type": "stream",
     "text": [
      "+--------------------+---------+---------+------+-------------+---------+---------+-----+--------------------+------+-----------+-------------+---------+--------------------+------+-------------------+--------------------+------+-----+-----+----+-----+---+----------+---------+\n",
      "|              artist|     auth|firstName|gender|itemInSession| lastName|   length|level|            location|method|       page| registration|sessionId|                song|status|                 ts|           userAgent|userId|churn|State|year|month|day|weekofyear|dayofweek|\n",
      "+--------------------+---------+---------+------+-------------+---------+---------+-----+--------------------+------+-----------+-------------+---------+--------------------+------+-------------------+--------------------+------+-----+-----+----+-----+---+----------+---------+\n",
      "|Sleeping With Sirens|Logged In| Darianna|     F|            0|Carpenter|202.97098| free|Bridgeport-Stamfo...|   PUT|   NextSong|1538016340000|       31|Captain Tyin Knot...|   200|2018-10-08 07:58:54|\"Mozilla/5.0 (iPh...|100010|    0|   CT|2018|   10| 08|        41|      Mon|\n",
      "|Francesca Battist...|Logged In| Darianna|     F|            1|Carpenter|196.54485| free|Bridgeport-Stamfo...|   PUT|   NextSong|1538016340000|       31|Beautiful_ Beauti...|   200|2018-10-08 08:02:16|\"Mozilla/5.0 (iPh...|100010|    0|   CT|2018|   10| 08|        41|      Mon|\n",
      "|              Brutha|Logged In| Darianna|     F|            2|Carpenter|263.13098| free|Bridgeport-Stamfo...|   PUT|   NextSong|1538016340000|       31|          She's Gone|   200|2018-10-08 08:05:32|\"Mozilla/5.0 (iPh...|100010|    0|   CT|2018|   10| 08|        41|      Mon|\n",
      "|                null|Logged In| Darianna|     F|            3|Carpenter|     null| free|Bridgeport-Stamfo...|   PUT|  Thumbs Up|1538016340000|       31|                null|   307|2018-10-08 08:05:33|\"Mozilla/5.0 (iPh...|100010|    0|   CT|2018|   10| 08|        41|      Mon|\n",
      "|         Josh Ritter|Logged In| Darianna|     F|            4|Carpenter|316.23791| free|Bridgeport-Stamfo...|   PUT|   NextSong|1538016340000|       31|      Folk Bloodbath|   200|2018-10-08 08:09:55|\"Mozilla/5.0 (iPh...|100010|    0|   CT|2018|   10| 08|        41|      Mon|\n",
      "|               LMFAO|Logged In| Darianna|     F|            5|Carpenter|183.74485| free|Bridgeport-Stamfo...|   PUT|   NextSong|1538016340000|       31|                 Yes|   200|2018-10-08 08:15:11|\"Mozilla/5.0 (iPh...|100010|    0|   CT|2018|   10| 08|        41|      Mon|\n",
      "|         OneRepublic|Logged In| Darianna|     F|            6|Carpenter|224.67873| free|Bridgeport-Stamfo...|   PUT|   NextSong|1538016340000|       31|             Secrets|   200|2018-10-08 08:18:14|\"Mozilla/5.0 (iPh...|100010|    0|   CT|2018|   10| 08|        41|      Mon|\n",
      "|       Dwight Yoakam|Logged In| Darianna|     F|            7|Carpenter| 239.3073| free|Bridgeport-Stamfo...|   PUT|   NextSong|1538016340000|       31|      You're The One|   200|2018-10-08 08:21:58|\"Mozilla/5.0 (iPh...|100010|    0|   CT|2018|   10| 08|        41|      Mon|\n",
      "|                null|Logged In| Darianna|     F|            8|Carpenter|     null| free|Bridgeport-Stamfo...|   GET|Roll Advert|1538016340000|       31|                null|   200|2018-10-08 08:22:41|\"Mozilla/5.0 (iPh...|100010|    0|   CT|2018|   10| 08|        41|      Mon|\n",
      "|      The Chordettes|Logged In| Darianna|     F|            9|Carpenter|142.41914| free|Bridgeport-Stamfo...|   PUT|   NextSong|1538016340000|       31|          Mr Sandman|   200|2018-10-08 08:25:57|\"Mozilla/5.0 (iPh...|100010|    0|   CT|2018|   10| 08|        41|      Mon|\n",
      "|Coko featuring Ki...|Logged In| Darianna|     F|           10|Carpenter| 249.3122| free|Bridgeport-Stamfo...|   PUT|   NextSong|1538016340000|       31|           I Get Joy|   200|2018-10-08 08:28:19|\"Mozilla/5.0 (iPh...|100010|    0|   CT|2018|   10| 08|        41|      Mon|\n",
      "|            The Cure|Logged In| Darianna|     F|           11|Carpenter| 52.27057| free|Bridgeport-Stamfo...|   PUT|   NextSong|1538016340000|       31|     The Final Sound|   200|2018-10-08 08:32:28|\"Mozilla/5.0 (iPh...|100010|    0|   CT|2018|   10| 08|        41|      Mon|\n",
      "|                null|Logged In| Darianna|     F|           12|Carpenter|     null| free|Bridgeport-Stamfo...|   GET|Roll Advert|1538016340000|       31|                null|   200|2018-10-08 08:32:51|\"Mozilla/5.0 (iPh...|100010|    0|   CT|2018|   10| 08|        41|      Mon|\n",
      "|Kid Cudi Vs Crookers|Logged In| Darianna|     F|           13|Carpenter|162.97751| free|Bridgeport-Stamfo...|   PUT|   NextSong|1538016340000|       31|        Day 'N' Nite|   200|2018-10-08 08:33:20|\"Mozilla/5.0 (iPh...|100010|    0|   CT|2018|   10| 08|        41|      Mon|\n",
      "|                null|Logged In| Darianna|     F|           14|Carpenter|     null| free|Bridgeport-Stamfo...|   PUT|  Thumbs Up|1538016340000|       31|                null|   307|2018-10-08 08:33:21|\"Mozilla/5.0 (iPh...|100010|    0|   CT|2018|   10| 08|        41|      Mon|\n",
      "|            Yeasayer|Logged In| Darianna|     F|           15|Carpenter|323.44771| free|Bridgeport-Stamfo...|   PUT|   NextSong|1538016340000|       31|                2080|   200|2018-10-08 08:36:02|\"Mozilla/5.0 (iPh...|100010|    0|   CT|2018|   10| 08|        41|      Mon|\n",
      "|             Ben Lee|Logged In| Darianna|     F|           16|Carpenter|245.78567| free|Bridgeport-Stamfo...|   PUT|   NextSong|1538016340000|       31|        Ache For You|   200|2018-10-08 08:41:25|\"Mozilla/5.0 (iPh...|100010|    0|   CT|2018|   10| 08|        41|      Mon|\n",
      "|                null|Logged In| Darianna|     F|           17|Carpenter|     null| free|Bridgeport-Stamfo...|   GET|Roll Advert|1538016340000|       31|                null|   200|2018-10-08 08:41:43|\"Mozilla/5.0 (iPh...|100010|    0|   CT|2018|   10| 08|        41|      Mon|\n",
      "|  ? & The Mysterians|Logged In| Darianna|     F|           18|Carpenter|128.10404| free|Bridgeport-Stamfo...|   PUT|   NextSong|1538016340000|       31|    Just Like A Rose|   200|2018-10-08 08:45:30|\"Mozilla/5.0 (iPh...|100010|    0|   CT|2018|   10| 08|        41|      Mon|\n",
      "|                null|Logged In| Darianna|     F|           19|Carpenter|     null| free|Bridgeport-Stamfo...|   GET|Roll Advert|1538016340000|       31|                null|   200|2018-10-08 08:45:31|\"Mozilla/5.0 (iPh...|100010|    0|   CT|2018|   10| 08|        41|      Mon|\n",
      "+--------------------+---------+---------+------+-------------+---------+---------+-----+--------------------+------+-----------+-------------+---------+--------------------+------+-------------------+--------------------+------+-----+-----+----+-----+---+----------+---------+\n",
      "only showing top 20 rows\n",
      "\n"
     ]
    }
   ],
   "source": [
    "# lets start by getting week of year\n",
    "df.withColumn('year', date_format(df['ts'], \"yyyy\")) \\\n",
    ".withColumn('month', date_format(df['ts'], \"MM\")) \\\n",
    ".withColumn('day', date_format(df['ts'], 'dd')) \\\n",
    ".withColumn('weekofyear', weekofyear('ts')) \\\n",
    ".withColumn('dayofweek', date_format(df['ts'], 'E')) \\\n",
    ".show()"
   ]
  },
  {
   "cell_type": "code",
   "execution_count": 153,
   "metadata": {
    "ExecuteTime": {
     "end_time": "2020-07-21T23:18:11.005975Z",
     "start_time": "2020-07-21T23:18:10.973106Z"
    }
   },
   "outputs": [],
   "source": [
    "df_time = df.withColumn('year', date_format(df['ts'], \"yyyy\")) \\\n",
    ".withColumn('month', date_format(df['ts'], \"MM\")) \\\n",
    ".withColumn('day', date_format(df['ts'], 'dd')) \\\n",
    ".withColumn('weekofyear', weekofyear('ts')) \\\n",
    ".withColumn('dayofweek', date_format(df['ts'], 'E'))"
   ]
  },
  {
   "cell_type": "code",
   "execution_count": 158,
   "metadata": {
    "ExecuteTime": {
     "end_time": "2020-07-21T23:19:38.369861Z",
     "start_time": "2020-07-21T23:19:34.361307Z"
    }
   },
   "outputs": [
    {
     "name": "stdout",
     "output_type": "stream",
     "text": [
      "+---------+-----+-----+\n",
      "|dayofweek|churn|count|\n",
      "+---------+-----+-----+\n",
      "|      Fri|    0|37818|\n",
      "|      Fri|    1| 7814|\n",
      "|      Mon|    0|38595|\n",
      "|      Mon|    1| 7423|\n",
      "|      Sat|    0|21390|\n",
      "|      Sat|    1| 4049|\n",
      "|      Sun|    0|20106|\n",
      "|      Sun|    1| 2660|\n",
      "|      Thu|    0|38654|\n",
      "|      Thu|    1| 7763|\n",
      "|      Tue|    0|40494|\n",
      "|      Tue|    1| 8185|\n",
      "|      Wed|    0|36233|\n",
      "|      Wed|    1| 6970|\n",
      "+---------+-----+-----+\n",
      "\n"
     ]
    }
   ],
   "source": [
    "df_time.groupby(['dayofweek', 'churn']).count().orderBy(['dayofweek', 'churn']).show()"
   ]
  },
  {
   "cell_type": "code",
   "execution_count": 159,
   "metadata": {
    "ExecuteTime": {
     "end_time": "2020-07-21T23:20:55.851534Z",
     "start_time": "2020-07-21T23:20:52.158996Z"
    }
   },
   "outputs": [
    {
     "name": "stdout",
     "output_type": "stream",
     "text": [
      "+-----+-----+------+\n",
      "|month|churn| count|\n",
      "+-----+-----+------+\n",
      "|   09|    0|   216|\n",
      "|   09|    1|    51|\n",
      "|   10|    0|108358|\n",
      "|   10|    1| 37145|\n",
      "|   11|    0|124715|\n",
      "|   11|    1|  7668|\n",
      "|   12|    0|     1|\n",
      "+-----+-----+------+\n",
      "\n"
     ]
    }
   ],
   "source": [
    "df_time.groupby(['month', 'churn']).count().orderBy(['month', 'churn']).show()"
   ]
  },
  {
   "cell_type": "code",
   "execution_count": 160,
   "metadata": {
    "ExecuteTime": {
     "end_time": "2020-07-21T23:21:45.610245Z",
     "start_time": "2020-07-21T23:21:41.069218Z"
    }
   },
   "outputs": [
    {
     "name": "stdout",
     "output_type": "stream",
     "text": [
      "+----------+-----+-----+\n",
      "|weekofyear|churn|count|\n",
      "+----------+-----+-----+\n",
      "|        39|    0|  216|\n",
      "|        39|    1|   51|\n",
      "|        40|    0|19666|\n",
      "|        40|    1| 9139|\n",
      "|        41|    0|21733|\n",
      "|        41|    1|11852|\n",
      "|        42|    0|27440|\n",
      "|        42|    1| 8551|\n",
      "|        43|    0|25550|\n",
      "|        43|    1| 4233|\n",
      "|        44|    0|32927|\n",
      "|        44|    1| 5258|\n",
      "|        45|    0|25047|\n",
      "|        45|    1| 3037|\n",
      "|        46|    0|27298|\n",
      "|        46|    1| 1741|\n",
      "|        47|    0|29543|\n",
      "|        47|    1|  802|\n",
      "|        48|    0|23870|\n",
      "|        48|    1|  200|\n",
      "+----------+-----+-----+\n",
      "\n"
     ]
    }
   ],
   "source": [
    "df_time.groupby(['weekofyear', 'churn']).count().orderBy(['weekofyear', 'churn']).show()"
   ]
  },
  {
   "cell_type": "code",
   "execution_count": 163,
   "metadata": {
    "ExecuteTime": {
     "end_time": "2020-07-22T02:44:13.419241Z",
     "start_time": "2020-07-22T02:44:13.408810Z"
    }
   },
   "outputs": [],
   "source": [
    "df_time = df_time.withColumn('hour', hour(df_time['ts']))"
   ]
  },
  {
   "cell_type": "code",
   "execution_count": 164,
   "metadata": {
    "ExecuteTime": {
     "end_time": "2020-07-22T02:46:05.760785Z",
     "start_time": "2020-07-22T02:46:00.798077Z"
    }
   },
   "outputs": [
    {
     "name": "stdout",
     "output_type": "stream",
     "text": [
      "+----+-----+-----+\n",
      "|hour|churn|count|\n",
      "+----+-----+-----+\n",
      "|   0|    0| 8371|\n",
      "|   0|    1| 1483|\n",
      "|   1|    0| 8361|\n",
      "|   1|    1| 1468|\n",
      "|   2|    0| 8438|\n",
      "|   2|    1| 1478|\n",
      "|   3|    0| 8592|\n",
      "|   3|    1| 1482|\n",
      "|   4|    0| 8804|\n",
      "|   4|    1| 1555|\n",
      "|   5|    0| 8945|\n",
      "|   5|    1| 1617|\n",
      "|   6|    0| 9628|\n",
      "|   6|    1| 1666|\n",
      "|   7|    0| 9892|\n",
      "|   7|    1| 1753|\n",
      "|   8|    0|10336|\n",
      "|   8|    1| 1969|\n",
      "|   9|    0|11005|\n",
      "|   9|    1| 2191|\n",
      "+----+-----+-----+\n",
      "only showing top 20 rows\n",
      "\n"
     ]
    }
   ],
   "source": [
    "df_time.groupby(['hour', 'churn']).count().orderBy(['hour', 'churn']).show()"
   ]
  },
  {
   "cell_type": "code",
   "execution_count": 203,
   "metadata": {
    "ExecuteTime": {
     "end_time": "2020-07-22T03:11:42.788972Z",
     "start_time": "2020-07-22T03:11:37.252468Z"
    }
   },
   "outputs": [],
   "source": [
    "pdf_hours = df_time.groupby(['hour', 'churn']).count().orderBy(['hour', 'churn']).toPandas()"
   ]
  },
  {
   "cell_type": "code",
   "execution_count": 204,
   "metadata": {
    "ExecuteTime": {
     "end_time": "2020-07-22T03:11:42.794997Z",
     "start_time": "2020-07-22T03:11:42.790819Z"
    }
   },
   "outputs": [],
   "source": [
    "pdf_h1 = pdf_hours[pdf_hours['churn'] == 0]\n",
    "pdf_h2 = pdf_hours[pdf_hours['churn'] == 1]"
   ]
  },
  {
   "cell_type": "code",
   "execution_count": 205,
   "metadata": {
    "ExecuteTime": {
     "end_time": "2020-07-22T03:11:42.803125Z",
     "start_time": "2020-07-22T03:11:42.797343Z"
    }
   },
   "outputs": [
    {
     "name": "stderr",
     "output_type": "stream",
     "text": [
      "/Users/soundoffear/anaconda3/lib/python3.7/site-packages/ipykernel_launcher.py:1: SettingWithCopyWarning: \n",
      "A value is trying to be set on a copy of a slice from a DataFrame.\n",
      "Try using .loc[row_indexer,col_indexer] = value instead\n",
      "\n",
      "See the caveats in the documentation: https://pandas.pydata.org/pandas-docs/stable/user_guide/indexing.html#returning-a-view-versus-a-copy\n",
      "  \"\"\"Entry point for launching an IPython kernel.\n",
      "/Users/soundoffear/anaconda3/lib/python3.7/site-packages/ipykernel_launcher.py:2: SettingWithCopyWarning: \n",
      "A value is trying to be set on a copy of a slice from a DataFrame.\n",
      "Try using .loc[row_indexer,col_indexer] = value instead\n",
      "\n",
      "See the caveats in the documentation: https://pandas.pydata.org/pandas-docs/stable/user_guide/indexing.html#returning-a-view-versus-a-copy\n",
      "  \n"
     ]
    }
   ],
   "source": [
    "pdf_h1['%'] = round(pdf_h1['count']/pdf_h1['count'].sum()*100, 2)\n",
    "pdf_h2['%'] = round(pdf_h2['count']/pdf_h2['count'].sum()*100, 2)"
   ]
  },
  {
   "cell_type": "code",
   "execution_count": 206,
   "metadata": {
    "ExecuteTime": {
     "end_time": "2020-07-22T03:11:42.808688Z",
     "start_time": "2020-07-22T03:11:42.805089Z"
    }
   },
   "outputs": [
    {
     "data": {
      "text/plain": [
       "233290"
      ]
     },
     "execution_count": 206,
     "metadata": {},
     "output_type": "execute_result"
    }
   ],
   "source": [
    "pdf_h1['count'].sum()"
   ]
  },
  {
   "cell_type": "code",
   "execution_count": null,
   "metadata": {},
   "outputs": [],
   "source": []
  },
  {
   "cell_type": "code",
   "execution_count": 207,
   "metadata": {
    "ExecuteTime": {
     "end_time": "2020-07-22T03:11:42.813163Z",
     "start_time": "2020-07-22T03:11:42.810102Z"
    }
   },
   "outputs": [],
   "source": [
    "pdf_hours = pd.concat([pdf_h1, pdf_h2])"
   ]
  },
  {
   "cell_type": "code",
   "execution_count": 208,
   "metadata": {
    "ExecuteTime": {
     "end_time": "2020-07-22T03:11:42.827669Z",
     "start_time": "2020-07-22T03:11:42.814526Z"
    },
    "scrolled": true
   },
   "outputs": [
    {
     "data": {
      "text/html": [
       "<div>\n",
       "<style scoped>\n",
       "    .dataframe tbody tr th:only-of-type {\n",
       "        vertical-align: middle;\n",
       "    }\n",
       "\n",
       "    .dataframe tbody tr th {\n",
       "        vertical-align: top;\n",
       "    }\n",
       "\n",
       "    .dataframe thead th {\n",
       "        text-align: right;\n",
       "    }\n",
       "</style>\n",
       "<table border=\"1\" class=\"dataframe\">\n",
       "  <thead>\n",
       "    <tr style=\"text-align: right;\">\n",
       "      <th></th>\n",
       "      <th>hour</th>\n",
       "      <th>churn</th>\n",
       "      <th>count</th>\n",
       "      <th>%</th>\n",
       "    </tr>\n",
       "  </thead>\n",
       "  <tbody>\n",
       "    <tr>\n",
       "      <th>0</th>\n",
       "      <td>0</td>\n",
       "      <td>0</td>\n",
       "      <td>8371</td>\n",
       "      <td>3.59</td>\n",
       "    </tr>\n",
       "    <tr>\n",
       "      <th>1</th>\n",
       "      <td>0</td>\n",
       "      <td>1</td>\n",
       "      <td>1483</td>\n",
       "      <td>3.31</td>\n",
       "    </tr>\n",
       "    <tr>\n",
       "      <th>2</th>\n",
       "      <td>1</td>\n",
       "      <td>0</td>\n",
       "      <td>8361</td>\n",
       "      <td>3.58</td>\n",
       "    </tr>\n",
       "    <tr>\n",
       "      <th>3</th>\n",
       "      <td>1</td>\n",
       "      <td>1</td>\n",
       "      <td>1468</td>\n",
       "      <td>3.27</td>\n",
       "    </tr>\n",
       "    <tr>\n",
       "      <th>4</th>\n",
       "      <td>2</td>\n",
       "      <td>0</td>\n",
       "      <td>8438</td>\n",
       "      <td>3.62</td>\n",
       "    </tr>\n",
       "    <tr>\n",
       "      <th>5</th>\n",
       "      <td>2</td>\n",
       "      <td>1</td>\n",
       "      <td>1478</td>\n",
       "      <td>3.29</td>\n",
       "    </tr>\n",
       "    <tr>\n",
       "      <th>6</th>\n",
       "      <td>3</td>\n",
       "      <td>0</td>\n",
       "      <td>8592</td>\n",
       "      <td>3.68</td>\n",
       "    </tr>\n",
       "    <tr>\n",
       "      <th>7</th>\n",
       "      <td>3</td>\n",
       "      <td>1</td>\n",
       "      <td>1482</td>\n",
       "      <td>3.30</td>\n",
       "    </tr>\n",
       "    <tr>\n",
       "      <th>8</th>\n",
       "      <td>4</td>\n",
       "      <td>0</td>\n",
       "      <td>8804</td>\n",
       "      <td>3.77</td>\n",
       "    </tr>\n",
       "    <tr>\n",
       "      <th>9</th>\n",
       "      <td>4</td>\n",
       "      <td>1</td>\n",
       "      <td>1555</td>\n",
       "      <td>3.47</td>\n",
       "    </tr>\n",
       "    <tr>\n",
       "      <th>10</th>\n",
       "      <td>5</td>\n",
       "      <td>0</td>\n",
       "      <td>8945</td>\n",
       "      <td>3.83</td>\n",
       "    </tr>\n",
       "    <tr>\n",
       "      <th>11</th>\n",
       "      <td>5</td>\n",
       "      <td>1</td>\n",
       "      <td>1617</td>\n",
       "      <td>3.60</td>\n",
       "    </tr>\n",
       "    <tr>\n",
       "      <th>12</th>\n",
       "      <td>6</td>\n",
       "      <td>0</td>\n",
       "      <td>9628</td>\n",
       "      <td>4.13</td>\n",
       "    </tr>\n",
       "    <tr>\n",
       "      <th>13</th>\n",
       "      <td>6</td>\n",
       "      <td>1</td>\n",
       "      <td>1666</td>\n",
       "      <td>3.71</td>\n",
       "    </tr>\n",
       "    <tr>\n",
       "      <th>14</th>\n",
       "      <td>7</td>\n",
       "      <td>0</td>\n",
       "      <td>9892</td>\n",
       "      <td>4.24</td>\n",
       "    </tr>\n",
       "    <tr>\n",
       "      <th>15</th>\n",
       "      <td>7</td>\n",
       "      <td>1</td>\n",
       "      <td>1753</td>\n",
       "      <td>3.91</td>\n",
       "    </tr>\n",
       "    <tr>\n",
       "      <th>16</th>\n",
       "      <td>8</td>\n",
       "      <td>0</td>\n",
       "      <td>10336</td>\n",
       "      <td>4.43</td>\n",
       "    </tr>\n",
       "    <tr>\n",
       "      <th>17</th>\n",
       "      <td>8</td>\n",
       "      <td>1</td>\n",
       "      <td>1969</td>\n",
       "      <td>4.39</td>\n",
       "    </tr>\n",
       "    <tr>\n",
       "      <th>18</th>\n",
       "      <td>9</td>\n",
       "      <td>0</td>\n",
       "      <td>11005</td>\n",
       "      <td>4.72</td>\n",
       "    </tr>\n",
       "    <tr>\n",
       "      <th>19</th>\n",
       "      <td>9</td>\n",
       "      <td>1</td>\n",
       "      <td>2191</td>\n",
       "      <td>4.88</td>\n",
       "    </tr>\n",
       "    <tr>\n",
       "      <th>20</th>\n",
       "      <td>10</td>\n",
       "      <td>0</td>\n",
       "      <td>11631</td>\n",
       "      <td>4.99</td>\n",
       "    </tr>\n",
       "    <tr>\n",
       "      <th>21</th>\n",
       "      <td>10</td>\n",
       "      <td>1</td>\n",
       "      <td>2305</td>\n",
       "      <td>5.14</td>\n",
       "    </tr>\n",
       "    <tr>\n",
       "      <th>22</th>\n",
       "      <td>11</td>\n",
       "      <td>0</td>\n",
       "      <td>11875</td>\n",
       "      <td>5.09</td>\n",
       "    </tr>\n",
       "    <tr>\n",
       "      <th>23</th>\n",
       "      <td>11</td>\n",
       "      <td>1</td>\n",
       "      <td>2380</td>\n",
       "      <td>5.30</td>\n",
       "    </tr>\n",
       "    <tr>\n",
       "      <th>24</th>\n",
       "      <td>12</td>\n",
       "      <td>0</td>\n",
       "      <td>11354</td>\n",
       "      <td>4.87</td>\n",
       "    </tr>\n",
       "    <tr>\n",
       "      <th>25</th>\n",
       "      <td>12</td>\n",
       "      <td>1</td>\n",
       "      <td>2515</td>\n",
       "      <td>5.61</td>\n",
       "    </tr>\n",
       "    <tr>\n",
       "      <th>26</th>\n",
       "      <td>13</td>\n",
       "      <td>0</td>\n",
       "      <td>11042</td>\n",
       "      <td>4.73</td>\n",
       "    </tr>\n",
       "    <tr>\n",
       "      <th>27</th>\n",
       "      <td>13</td>\n",
       "      <td>1</td>\n",
       "      <td>2390</td>\n",
       "      <td>5.33</td>\n",
       "    </tr>\n",
       "    <tr>\n",
       "      <th>28</th>\n",
       "      <td>14</td>\n",
       "      <td>0</td>\n",
       "      <td>11129</td>\n",
       "      <td>4.77</td>\n",
       "    </tr>\n",
       "    <tr>\n",
       "      <th>29</th>\n",
       "      <td>14</td>\n",
       "      <td>1</td>\n",
       "      <td>2223</td>\n",
       "      <td>4.95</td>\n",
       "    </tr>\n",
       "    <tr>\n",
       "      <th>30</th>\n",
       "      <td>15</td>\n",
       "      <td>0</td>\n",
       "      <td>11067</td>\n",
       "      <td>4.74</td>\n",
       "    </tr>\n",
       "    <tr>\n",
       "      <th>31</th>\n",
       "      <td>15</td>\n",
       "      <td>1</td>\n",
       "      <td>2150</td>\n",
       "      <td>4.79</td>\n",
       "    </tr>\n",
       "    <tr>\n",
       "      <th>32</th>\n",
       "      <td>16</td>\n",
       "      <td>0</td>\n",
       "      <td>10448</td>\n",
       "      <td>4.48</td>\n",
       "    </tr>\n",
       "    <tr>\n",
       "      <th>33</th>\n",
       "      <td>16</td>\n",
       "      <td>1</td>\n",
       "      <td>2011</td>\n",
       "      <td>4.48</td>\n",
       "    </tr>\n",
       "    <tr>\n",
       "      <th>34</th>\n",
       "      <td>17</td>\n",
       "      <td>0</td>\n",
       "      <td>10159</td>\n",
       "      <td>4.35</td>\n",
       "    </tr>\n",
       "    <tr>\n",
       "      <th>35</th>\n",
       "      <td>17</td>\n",
       "      <td>1</td>\n",
       "      <td>1902</td>\n",
       "      <td>4.24</td>\n",
       "    </tr>\n",
       "    <tr>\n",
       "      <th>36</th>\n",
       "      <td>18</td>\n",
       "      <td>0</td>\n",
       "      <td>9541</td>\n",
       "      <td>4.09</td>\n",
       "    </tr>\n",
       "    <tr>\n",
       "      <th>37</th>\n",
       "      <td>18</td>\n",
       "      <td>1</td>\n",
       "      <td>1951</td>\n",
       "      <td>4.35</td>\n",
       "    </tr>\n",
       "    <tr>\n",
       "      <th>38</th>\n",
       "      <td>19</td>\n",
       "      <td>0</td>\n",
       "      <td>8882</td>\n",
       "      <td>3.81</td>\n",
       "    </tr>\n",
       "    <tr>\n",
       "      <th>39</th>\n",
       "      <td>19</td>\n",
       "      <td>1</td>\n",
       "      <td>1937</td>\n",
       "      <td>4.32</td>\n",
       "    </tr>\n",
       "    <tr>\n",
       "      <th>40</th>\n",
       "      <td>20</td>\n",
       "      <td>0</td>\n",
       "      <td>8461</td>\n",
       "      <td>3.63</td>\n",
       "    </tr>\n",
       "    <tr>\n",
       "      <th>41</th>\n",
       "      <td>20</td>\n",
       "      <td>1</td>\n",
       "      <td>1626</td>\n",
       "      <td>3.62</td>\n",
       "    </tr>\n",
       "    <tr>\n",
       "      <th>42</th>\n",
       "      <td>21</td>\n",
       "      <td>0</td>\n",
       "      <td>8435</td>\n",
       "      <td>3.62</td>\n",
       "    </tr>\n",
       "    <tr>\n",
       "      <th>43</th>\n",
       "      <td>21</td>\n",
       "      <td>1</td>\n",
       "      <td>1644</td>\n",
       "      <td>3.66</td>\n",
       "    </tr>\n",
       "    <tr>\n",
       "      <th>44</th>\n",
       "      <td>22</td>\n",
       "      <td>0</td>\n",
       "      <td>8478</td>\n",
       "      <td>3.63</td>\n",
       "    </tr>\n",
       "    <tr>\n",
       "      <th>45</th>\n",
       "      <td>22</td>\n",
       "      <td>1</td>\n",
       "      <td>1599</td>\n",
       "      <td>3.56</td>\n",
       "    </tr>\n",
       "    <tr>\n",
       "      <th>46</th>\n",
       "      <td>23</td>\n",
       "      <td>0</td>\n",
       "      <td>8416</td>\n",
       "      <td>3.61</td>\n",
       "    </tr>\n",
       "    <tr>\n",
       "      <th>47</th>\n",
       "      <td>23</td>\n",
       "      <td>1</td>\n",
       "      <td>1569</td>\n",
       "      <td>3.50</td>\n",
       "    </tr>\n",
       "  </tbody>\n",
       "</table>\n",
       "</div>"
      ],
      "text/plain": [
       "    hour  churn  count     %\n",
       "0      0      0   8371  3.59\n",
       "1      0      1   1483  3.31\n",
       "2      1      0   8361  3.58\n",
       "3      1      1   1468  3.27\n",
       "4      2      0   8438  3.62\n",
       "5      2      1   1478  3.29\n",
       "6      3      0   8592  3.68\n",
       "7      3      1   1482  3.30\n",
       "8      4      0   8804  3.77\n",
       "9      4      1   1555  3.47\n",
       "10     5      0   8945  3.83\n",
       "11     5      1   1617  3.60\n",
       "12     6      0   9628  4.13\n",
       "13     6      1   1666  3.71\n",
       "14     7      0   9892  4.24\n",
       "15     7      1   1753  3.91\n",
       "16     8      0  10336  4.43\n",
       "17     8      1   1969  4.39\n",
       "18     9      0  11005  4.72\n",
       "19     9      1   2191  4.88\n",
       "20    10      0  11631  4.99\n",
       "21    10      1   2305  5.14\n",
       "22    11      0  11875  5.09\n",
       "23    11      1   2380  5.30\n",
       "24    12      0  11354  4.87\n",
       "25    12      1   2515  5.61\n",
       "26    13      0  11042  4.73\n",
       "27    13      1   2390  5.33\n",
       "28    14      0  11129  4.77\n",
       "29    14      1   2223  4.95\n",
       "30    15      0  11067  4.74\n",
       "31    15      1   2150  4.79\n",
       "32    16      0  10448  4.48\n",
       "33    16      1   2011  4.48\n",
       "34    17      0  10159  4.35\n",
       "35    17      1   1902  4.24\n",
       "36    18      0   9541  4.09\n",
       "37    18      1   1951  4.35\n",
       "38    19      0   8882  3.81\n",
       "39    19      1   1937  4.32\n",
       "40    20      0   8461  3.63\n",
       "41    20      1   1626  3.62\n",
       "42    21      0   8435  3.62\n",
       "43    21      1   1644  3.66\n",
       "44    22      0   8478  3.63\n",
       "45    22      1   1599  3.56\n",
       "46    23      0   8416  3.61\n",
       "47    23      1   1569  3.50"
      ]
     },
     "execution_count": 208,
     "metadata": {},
     "output_type": "execute_result"
    }
   ],
   "source": [
    "pdf_hours.sort_index(inplace=True)\n",
    "pdf_hours"
   ]
  },
  {
   "cell_type": "code",
   "execution_count": 231,
   "metadata": {
    "ExecuteTime": {
     "end_time": "2020-07-22T03:25:42.358375Z",
     "start_time": "2020-07-22T03:25:41.959412Z"
    }
   },
   "outputs": [
    {
     "data": {
      "image/png": "[encoded data removed]",
      "text/plain": [
       "<Figure size 1440x432 with 1 Axes>"
      ]
     },
     "metadata": {
      "needs_background": "light"
     },
     "output_type": "display_data"
    }
   ],
   "source": [
    "fig, ax = plt.subplots(figsize=(20, 6))\n",
    "rects1 = ax.bar(pdf_hours[pdf_hours['churn'] == 0]['hour']-0.2, \n",
    "       pdf_hours[pdf_hours['churn'] == 0]['%'], \n",
    "       width=0.35, \n",
    "       color='green', label='Not Churned')\n",
    "rects2 = ax.bar(pdf_hours[pdf_hours['churn'] == 1]['hour']+0.2, \n",
    "       pdf_hours[pdf_hours['churn'] == 1]['%'], \n",
    "       width=0.35, \n",
    "       color='red', label='Churned')\n",
    "ax.set_xticks(np.arange(0, 24, 1))\n",
    "ax.set_xticklabels(np.arange(0, 24, 1), fontsize=16)\n",
    "ax.set_yticks(np.arange(0, 7, 1))\n",
    "ax.set_yticklabels([str(x)+\"%\" for x in range(7)], fontsize=16)\n",
    "ax.grid(True)\n",
    "\n",
    "def set_datalabels(rects):\n",
    "    for rect in rects:\n",
    "        bheight = rect.get_height()\n",
    "        bwidth = rect.get_width()\n",
    "        bx = rect.get_x()\n",
    "        \n",
    "        ax.text(x=bx+bwidth/2, \n",
    "                y=bheight/2, \n",
    "                s=str(bheight)+' %', \n",
    "                fontsize=14, \n",
    "                color='white', \n",
    "                rotation=90, \n",
    "                fontweight='bold', \n",
    "                va='center', \n",
    "                ha='center')\n",
    "        \n",
    "set_datalabels(rects1)\n",
    "set_datalabels(rects2)\n",
    "plt.title(\"Percentage of users that decided to churn based on the hour of the day\", fontsize=20)\n",
    "plt.show()"
   ]
  },
  {
   "cell_type": "code",
   "execution_count": 232,
   "metadata": {
    "ExecuteTime": {
     "end_time": "2020-07-22T04:07:53.425375Z",
     "start_time": "2020-07-22T04:07:53.388607Z"
    }
   },
   "outputs": [],
   "source": [
    "df = df.withColumn('year', date_format(df['ts'], \"yyyy\")) \\\n",
    ".withColumn('month', date_format(df['ts'], \"MM\")) \\\n",
    ".withColumn('day', date_format(df['ts'], 'dd')) \\\n",
    ".withColumn('weekofyear', weekofyear('ts')) \\\n",
    ".withColumn('dayofweek', date_format(df['ts'], 'E')) \\\n",
    ".withColumn('hour', hour(df_time['ts']))"
   ]
  },
  {
   "cell_type": "code",
   "execution_count": 233,
   "metadata": {
    "ExecuteTime": {
     "end_time": "2020-07-22T04:08:04.083017Z",
     "start_time": "2020-07-22T04:08:00.947063Z"
    }
   },
   "outputs": [
    {
     "name": "stdout",
     "output_type": "stream",
     "text": [
      "+--------------------+---------+---------+------+-------------+---------+---------+-----+--------------------+------+---------+-------------+---------+--------------------+------+-------------------+--------------------+------+-----+-----+----+-----+---+----------+---------+----+\n",
      "|              artist|     auth|firstName|gender|itemInSession| lastName|   length|level|            location|method|     page| registration|sessionId|                song|status|                 ts|           userAgent|userId|churn|State|year|month|day|weekofyear|dayofweek|hour|\n",
      "+--------------------+---------+---------+------+-------------+---------+---------+-----+--------------------+------+---------+-------------+---------+--------------------+------+-------------------+--------------------+------+-----+-----+----+-----+---+----------+---------+----+\n",
      "|Sleeping With Sirens|Logged In| Darianna|     F|            0|Carpenter|202.97098| free|Bridgeport-Stamfo...|   PUT| NextSong|1538016340000|       31|Captain Tyin Knot...|   200|2018-10-08 07:58:54|\"Mozilla/5.0 (iPh...|100010|    0|   CT|2018|   10| 08|        41|      Mon|   7|\n",
      "|Francesca Battist...|Logged In| Darianna|     F|            1|Carpenter|196.54485| free|Bridgeport-Stamfo...|   PUT| NextSong|1538016340000|       31|Beautiful_ Beauti...|   200|2018-10-08 08:02:16|\"Mozilla/5.0 (iPh...|100010|    0|   CT|2018|   10| 08|        41|      Mon|   8|\n",
      "|              Brutha|Logged In| Darianna|     F|            2|Carpenter|263.13098| free|Bridgeport-Stamfo...|   PUT| NextSong|1538016340000|       31|          She's Gone|   200|2018-10-08 08:05:32|\"Mozilla/5.0 (iPh...|100010|    0|   CT|2018|   10| 08|        41|      Mon|   8|\n",
      "|                null|Logged In| Darianna|     F|            3|Carpenter|     null| free|Bridgeport-Stamfo...|   PUT|Thumbs Up|1538016340000|       31|                null|   307|2018-10-08 08:05:33|\"Mozilla/5.0 (iPh...|100010|    0|   CT|2018|   10| 08|        41|      Mon|   8|\n",
      "|         Josh Ritter|Logged In| Darianna|     F|            4|Carpenter|316.23791| free|Bridgeport-Stamfo...|   PUT| NextSong|1538016340000|       31|      Folk Bloodbath|   200|2018-10-08 08:09:55|\"Mozilla/5.0 (iPh...|100010|    0|   CT|2018|   10| 08|        41|      Mon|   8|\n",
      "+--------------------+---------+---------+------+-------------+---------+---------+-----+--------------------+------+---------+-------------+---------+--------------------+------+-------------------+--------------------+------+-----+-----+----+-----+---+----------+---------+----+\n",
      "only showing top 5 rows\n",
      "\n"
     ]
    }
   ],
   "source": [
    "df.show(5)"
   ]
  },
  {
   "cell_type": "code",
   "execution_count": null,
   "metadata": {},
   "outputs": [],
   "source": []
  },
  {
   "cell_type": "code",
   "execution_count": null,
   "metadata": {},
   "outputs": [],
   "source": []
  },
  {
   "cell_type": "markdown",
   "metadata": {},
   "source": [
    "# Feature Engineering\n",
    "Once you've familiarized yourself with the data, build out the features you find promising to train your model on. To work with the full dataset, you can follow the following steps.\n",
    "- Write a script to extract the necessary features from the smaller subset of data\n",
    "- Ensure that your script is scalable, using the best practices discussed in Lesson 3\n",
    "- Try your script on the full data set, debugging your script if necessary\n",
    "\n",
    "If you are working in the classroom workspace, you can just extract features based on the small subset of data contained here. Be sure to transfer over this work to the larger dataset when you work on your Spark cluster."
   ]
  },
  {
   "cell_type": "code",
   "execution_count": null,
   "metadata": {},
   "outputs": [],
   "source": []
  },
  {
   "cell_type": "markdown",
   "metadata": {},
   "source": [
    "# Modeling\n",
    "Split the full dataset into train, test, and validation sets. Test out several of the machine learning methods you learned. Evaluate the accuracy of the various models, tuning parameters as necessary. Determine your winning model based on test accuracy and report results on the validation set. Since the churned users are a fairly small subset, I suggest using F1 score as the metric to optimize."
   ]
  },
  {
   "cell_type": "code",
   "execution_count": null,
   "metadata": {},
   "outputs": [],
   "source": []
  },
  {
   "cell_type": "markdown",
   "metadata": {},
   "source": [
    "# Final Steps\n",
    "Clean up your code, adding comments and renaming variables to make the code easier to read and maintain. Refer to the Spark Project Overview page and Data Scientist Capstone Project Rubric to make sure you are including all components of the capstone project and meet all expectations. Remember, this includes thorough documentation in a README file in a Github repository, as well as a web app or blog post."
   ]
  },
  {
   "cell_type": "code",
   "execution_count": null,
   "metadata": {},
   "outputs": [],
   "source": []
  }
 ],
 "metadata": {
  "kernelspec": {
   "display_name": "Python 3",
   "language": "python",
   "name": "python3"
  },
  "language_info": {
   "codemirror_mode": {
    "name": "ipython",
    "version": 3
   },
   "file_extension": ".py",
   "mimetype": "text/x-python",
   "name": "python",
   "nbconvert_exporter": "python",
   "pygments_lexer": "ipython3",
   "version": "3.7.7"
  }
 },
 "nbformat": 4,
 "nbformat_minor": 2
}
